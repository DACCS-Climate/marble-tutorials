{
 "cells": [
  {
   "cell_type": "markdown",
   "id": "4c3a7b01-5cbe-418d-9233-4b392d1853e0",
   "metadata": {},
   "source": [
    "# Intro to Jupyter Notebook \n",
    "\n",
    "The material is mostly adapted from [the official documentation](https://jupyter-notebook.readthedocs.io/en/stable/notebook.html) , Copyright 2015, [Jupyter Team](https://jupyter.org)."
   ]
  },
  {
   "cell_type": "markdown",
   "id": "5c549d30-1966-4099-8953-01e8ff8e9475",
   "metadata": {},
   "source": [
    "This tutorial aims to familiarize you with fundamental features of the Jupyter Notebook interface, providing valuable insights for enhancing the interpretability and formatting of your climate computing projects. These skills will prove beneficial in navigating any future projects with this platform and others.\n",
    "\n",
    "Jupyter defines a notebook as a shareable document that combines computer code, plain language descriptions, data, rich visualizations like 3D models, charts, graphs and figures, and interactive controls. A notebook, along with an editor (like JupyterLab), provides a fast interactive environment for prototyping and explaining code, exploring and visualizing data, and sharing ideas with others.ntrols"
   ]
  },
  {
   "cell_type": "code",
   "execution_count": 1,
   "id": "d73876da-e057-44f5-96a7-b6e8f06bfcad",
   "metadata": {},
   "outputs": [
    {
     "name": "stdout",
     "output_type": "stream",
     "text": [
      "Welcome to Marble!\n"
     ]
    }
   ],
   "source": [
    "# This is a coding cell\n",
    "print('Welcome to Marble!')\n",
    "\n",
    "# Press 'Shift + Enter' to execute the cell"
   ]
  },
  {
   "cell_type": "code",
   "execution_count": 2,
   "id": "af1d5f24-6f5e-45f2-901a-4b52831c9e57",
   "metadata": {},
   "outputs": [],
   "source": [
    "# Jupyter notebook works both as a coding console and a notebook\n",
    "# To write long text, we can use a markdown cell\n",
    "\n",
    "# First enter command mode by pressing 'ESC'\n",
    "# Press 'M' to convert cell to markdown"
   ]
  },
  {
   "cell_type": "markdown",
   "id": "6a3adf2d-a3d4-4793-98af-99b0c76fe3b6",
   "metadata": {},
   "source": [
    "This is a markdown cell. Click the cell or press 'Enter' to see how the markdown is written.\n",
    "\n",
    "\n",
    "Let's learn further markdown cell customizations.\n",
    "<br>\n",
    "<br>"
   ]
  },
  {
   "cell_type": "markdown",
   "id": "db53ea51-b247-4f67-8ff1-b112a578d95d",
   "metadata": {},
   "source": [
    "## Markdown"
   ]
  },
  {
   "cell_type": "markdown",
   "id": "08b1874a-1cb2-4da2-954f-5f3c9a6ddc9e",
   "metadata": {},
   "source": [
    "Text Hierachrcy can be set using `#` within markdown cells\n",
    "\n",
    "\\# TITLE <br>\n",
    "\\## HEADING <br>\n",
    "\\### SUBHEADING <br>\n",
    "\\#### SECTION <br>\n",
    "\\##### SUBSECTION - smallest"
   ]
  },
  {
   "cell_type": "markdown",
   "id": "9ecb3506-3d13-4f68-aaf1-3e46eaf6eff3",
   "metadata": {
    "jp-MarkdownHeadingCollapsed": true
   },
   "source": [
    "### Bold \n",
    "Using `__text__ `, `**text**` or `<b> text </b>`\n",
    "\n",
    "__this makes bold text__\n",
    "\n",
    "\n",
    "**and this does too**\n",
    "\n",
    "\n",
    "<b>so does this!</b>\n",
    "\n",
    "\n",
    "### Italics\n",
    "Using `*text*` and `_text_`\n",
    "\n",
    "*Italics!*\n",
    "\n",
    "_Italics like this too_"
   ]
  },
  {
   "cell_type": "markdown",
   "id": "3a9d17f4-04a2-46d5-a5aa-da9624314fdb",
   "metadata": {},
   "source": [
    "### Monospace Fonts\n",
    "\n",
    "Use a back single quote mark ( \\` ) to get monoface fonts\n",
    "\n",
    "`Text will appear like this`"
   ]
  },
  {
   "cell_type": "markdown",
   "id": "12128606-9600-429a-bdd9-ed51bff0f60f",
   "metadata": {},
   "source": [
    "### Line Breaks\n",
    "\n",
    "In markdown, you can insert manual line breaks using `<br>`\n",
    "\n",
    "\r\n",
    "#### Without breaks\r",
    "In the heart of bustling New York City, the vibrant streets echo with the rhythm of diverse cultures. Towering skyscrapers paint the skyline, a testament to architectural marvels. The aroma of delicacies wafts from eclectic eateries, enticing passersby. Amidst this bustling cityscape, pockets of serene greenery offer refuge—a haven where nature coexists with urbanity. People from all walks of life traverse the city's arteries, creating a vibrant mosaic of experiences. Each corner tells a story, every step inviting exploration—a city where dreams are woven into the fabric of its bustling streets\n",
    "\r",
    "#### With breaks\n",
    "\n",
    "In the heart of bustling New York City, the vibrant streets echo with the rhythm of diverse cultures. Towering skyscrapers paint the skyline, a testament to architectural marvels.<br> The aroma of delicacies wafts from eclectic eateries, enticing passersby. Amidst this bustling cityscape, pockets of serene greenery offer refuge—a haven where nature coexists with urbanity.<br> People from all walks of life traverse the city's arteries, creating a vibrant mosaic of experiences. Each corner tells a story, every step inviting exploration—a city where dreams are woven into the fabric of its bustling streets\n",
    "\r\n",
    "\r\n",
    "\r\n"
   ]
  },
  {
   "cell_type": "markdown",
   "id": "d6760ed3-2c4d-4d89-9bd7-cf49200937f8",
   "metadata": {},
   "source": [
    "### Indenting\n",
    "\n",
    "use `>` to indent your text.\n",
    "\n",
    "This is the first line\n",
    "> One indent\n",
    ">> Two indents\n",
    ">>> And on and on"
   ]
  },
  {
   "cell_type": "markdown",
   "id": "da9a5535-f9bc-4006-9d0d-b0e6de702fd4",
   "metadata": {},
   "source": [
    "### Bullets and Numbering\n",
    "\n",
    "- A dash followed by a space creates a bullet `- bullet`.\n",
    "  - Sub-bullet\n",
    " \n",
    "1. The same works for numbering\n",
    "   1. sub-point becomes `A.`\n",
    "      1. sub-sub-point becomes `a.`\n",
    "         1. final level"
   ]
  },
  {
   "cell_type": "markdown",
   "id": "e69fce11-7879-48c8-afac-aea388efcfc5",
   "metadata": {},
   "source": [
    "### Changing Colour\n",
    "\n",
    "<font color = blue> The text is now blue for this sentence </font>"
   ]
  },
  {
   "cell_type": "markdown",
   "id": "150bf7ba-d076-4824-bf4a-c3768a267e44",
   "metadata": {},
   "source": [
    "### Adding Images\n",
    "\n",
    "You can add images using `<img src = \"image_path\">`. Note you can provide both URLs and locally stored file locations.\n",
    "\n",
    "Example: \n",
    "\n",
    "<img src = 'https://satelliteliaisonblog.files.wordpress.com/2013/11/haiyan_6nov13_1639z_iband5.png' width = 60% height= 60%>\n"
   ]
  },
  {
   "cell_type": "markdown",
   "id": "a73b9e2d-0bae-41c1-9462-31f61df478b1",
   "metadata": {},
   "source": [
    "### LaTeX Equations\n",
    "\n",
    "Jupyter also supports LaTeX equations within markdown using `$` on either side of the equation.<br><br>\n",
    "`$\\frac{2x}{y} + (3x)^2 = d\\phi$` gives us $\\frac{2x}{y} + (3x)^2 = d\\phi$\n",
    "\n",
    "For more details on LaTeX, follow this **[link](https://en.wikibooks.org/wiki/LaTeX/Mathematics)**"
   ]
  },
  {
   "cell_type": "markdown",
   "id": "af55c769-7393-477f-9862-8d41cbf6d721",
   "metadata": {},
   "source": [
    "### Code Blocks\n",
    "\n",
    "Sometimes, you'll need to add code to your markdown cells, This can be done in a few ways.\n",
    "\n",
    "\\```programming_language <br><br> <b>enter code here</b> <br><br>\\```\n",
    "\n",
    "```python\n",
    "print(\"hello world\")\n",
    "```\n",
    "Using `TAB` followed by an empty line\n",
    "\n",
    "    print(\"hello world\")"
   ]
  },
  {
   "cell_type": "markdown",
   "id": "cef47b91-cca6-4910-920a-c4491f83d539",
   "metadata": {},
   "source": [
    "ook upwards\r\n"
   ]
  },
  {
   "cell_type": "markdown",
   "id": "d34e2dbd-7370-4b3a-b242-f6cd898c04da",
   "metadata": {},
   "source": [
    "### Basic Commands\n",
    "\n",
    "#### Command Mode Shortcuts\n",
    "-  `Esc`: To go into command mode\n",
    "-  `Enter`: To go back to edit mode\n",
    "-  `M`: To convert a cell to a markdown cell\n",
    "-  `Y`: To convert a cell back to a code cell\n",
    "-  `A`: To insert new cell above\n",
    "-  `B`: To insert new cell below\n",
    "-  `D + D`: To delete cell\n",
    "-  `Z`: Undo the last operation\n",
    "-  `F`: To find and replace on your code\n",
    "-  `Shift + Up/Down`: To select multiple cells\n",
    "-  `Space`: Scroll notebook downwards\n",
    "-  `Shift + Space`: Scroll notebook upwards\n",
    "\n",
    "#### Edit Mode Shortcuts\n",
    "-  `Shift + Enter`: To execute the code in the current cell and go to the next cell\n",
    "-  `Alt + Enter`: To execute the code in the current cell and insert new cell below\n",
    "-  `Shift + Tab`: To get brief documentation of the object that you have just typed in the coding cell\n",
    "-  `Ctrl + Shift + -`: To split the cell at cursor\n",
    "-  `Shift + M`: To merge selected cells\n"
   ]
  },
  {
   "cell_type": "markdown",
   "id": "1a104b1f-9db8-4777-9196-c0d780b21693",
   "metadata": {
    "jp-MarkdownHeadingCollapsed": true
   },
   "source": [
    "## Magic Commands\n",
    "\n",
    "These are sometimes refered to as magic functions. There are special commands offered by IPython and are available within Jupyter Notebook. These are simple functions for assisting in solving frequent problems that may be encountered when working with Jupyter notebooks.\n",
    "\n",
    "There are two types of these commands:\n",
    "1. <b> Line </b>: They <u>only operate on the next cell line</u> and are called using the `%` prefix.\n",
    "2. <b> Cell </b>: They operate on the entire cell block or notebook and are called using the `%%` prefix.\n"
   ]
  },
  {
   "cell_type": "markdown",
   "id": "6c00af5c-3473-495b-bc22-8204afbb3e26",
   "metadata": {},
   "source": [
    "### List Magic Commands"
   ]
  },
  {
   "cell_type": "code",
   "execution_count": 3,
   "id": "d5848d7e-ca5d-4c54-91de-db873c19a918",
   "metadata": {},
   "outputs": [
    {
     "data": {
      "application/json": {
       "cell": {
        "!": "OSMagics",
        "HTML": "Other",
        "SVG": "Other",
        "bash": "Other",
        "capture": "ExecutionMagics",
        "code_wrap": "ExecutionMagics",
        "debug": "ExecutionMagics",
        "file": "Other",
        "html": "DisplayMagics",
        "javascript": "DisplayMagics",
        "js": "DisplayMagics",
        "latex": "DisplayMagics",
        "markdown": "DisplayMagics",
        "perl": "Other",
        "prun": "ExecutionMagics",
        "pypy": "Other",
        "python": "Other",
        "python2": "Other",
        "python3": "Other",
        "ruby": "Other",
        "script": "ScriptMagics",
        "sh": "Other",
        "svg": "DisplayMagics",
        "sx": "OSMagics",
        "system": "OSMagics",
        "time": "ExecutionMagics",
        "timeit": "ExecutionMagics",
        "writefile": "OSMagics"
       },
       "line": {
        "alias": "OSMagics",
        "alias_magic": "BasicMagics",
        "autoawait": "AsyncMagics",
        "autocall": "AutoMagics",
        "automagic": "AutoMagics",
        "autosave": "KernelMagics",
        "bookmark": "OSMagics",
        "cat": "Other",
        "cd": "OSMagics",
        "clear": "KernelMagics",
        "code_wrap": "ExecutionMagics",
        "colors": "BasicMagics",
        "conda": "PackagingMagics",
        "config": "ConfigMagics",
        "connect_info": "KernelMagics",
        "cp": "Other",
        "debug": "ExecutionMagics",
        "dhist": "OSMagics",
        "dirs": "OSMagics",
        "doctest_mode": "BasicMagics",
        "ed": "Other",
        "edit": "KernelMagics",
        "env": "OSMagics",
        "gui": "BasicMagics",
        "hist": "Other",
        "history": "HistoryMagics",
        "killbgscripts": "ScriptMagics",
        "ldir": "Other",
        "less": "KernelMagics",
        "lf": "Other",
        "lk": "Other",
        "ll": "Other",
        "load": "CodeMagics",
        "load_ext": "ExtensionMagics",
        "loadpy": "CodeMagics",
        "logoff": "LoggingMagics",
        "logon": "LoggingMagics",
        "logstart": "LoggingMagics",
        "logstate": "LoggingMagics",
        "logstop": "LoggingMagics",
        "ls": "Other",
        "lsmagic": "BasicMagics",
        "lx": "Other",
        "macro": "ExecutionMagics",
        "magic": "BasicMagics",
        "man": "KernelMagics",
        "matplotlib": "PylabMagics",
        "mkdir": "Other",
        "more": "KernelMagics",
        "mv": "Other",
        "notebook": "BasicMagics",
        "page": "BasicMagics",
        "pastebin": "CodeMagics",
        "pdb": "ExecutionMagics",
        "pdef": "NamespaceMagics",
        "pdoc": "NamespaceMagics",
        "pfile": "NamespaceMagics",
        "pinfo": "NamespaceMagics",
        "pinfo2": "NamespaceMagics",
        "pip": "PackagingMagics",
        "popd": "OSMagics",
        "pprint": "BasicMagics",
        "precision": "BasicMagics",
        "prun": "ExecutionMagics",
        "psearch": "NamespaceMagics",
        "psource": "NamespaceMagics",
        "pushd": "OSMagics",
        "pwd": "OSMagics",
        "pycat": "OSMagics",
        "pylab": "PylabMagics",
        "qtconsole": "KernelMagics",
        "quickref": "BasicMagics",
        "recall": "HistoryMagics",
        "rehashx": "OSMagics",
        "reload_ext": "ExtensionMagics",
        "rep": "Other",
        "rerun": "HistoryMagics",
        "reset": "NamespaceMagics",
        "reset_selective": "NamespaceMagics",
        "rm": "Other",
        "rmdir": "Other",
        "run": "ExecutionMagics",
        "save": "CodeMagics",
        "sc": "OSMagics",
        "set_env": "OSMagics",
        "store": "StoreMagics",
        "sx": "OSMagics",
        "system": "OSMagics",
        "tb": "ExecutionMagics",
        "time": "ExecutionMagics",
        "timeit": "ExecutionMagics",
        "unalias": "OSMagics",
        "unload_ext": "ExtensionMagics",
        "who": "NamespaceMagics",
        "who_ls": "NamespaceMagics",
        "whos": "NamespaceMagics",
        "xdel": "NamespaceMagics",
        "xmode": "BasicMagics"
       }
      },
      "text/plain": [
       "Available line magics:\n",
       "%alias  %alias_magic  %autoawait  %autocall  %automagic  %autosave  %bookmark  %cat  %cd  %clear  %code_wrap  %colors  %conda  %config  %connect_info  %cp  %debug  %dhist  %dirs  %doctest_mode  %ed  %edit  %env  %gui  %hist  %history  %killbgscripts  %ldir  %less  %lf  %lk  %ll  %load  %load_ext  %loadpy  %logoff  %logon  %logstart  %logstate  %logstop  %ls  %lsmagic  %lx  %macro  %magic  %man  %matplotlib  %mkdir  %more  %mv  %notebook  %page  %pastebin  %pdb  %pdef  %pdoc  %pfile  %pinfo  %pinfo2  %pip  %popd  %pprint  %precision  %prun  %psearch  %psource  %pushd  %pwd  %pycat  %pylab  %qtconsole  %quickref  %recall  %rehashx  %reload_ext  %rep  %rerun  %reset  %reset_selective  %rm  %rmdir  %run  %save  %sc  %set_env  %store  %sx  %system  %tb  %time  %timeit  %unalias  %unload_ext  %who  %who_ls  %whos  %xdel  %xmode\n",
       "\n",
       "Available cell magics:\n",
       "%%!  %%HTML  %%SVG  %%bash  %%capture  %%code_wrap  %%debug  %%file  %%html  %%javascript  %%js  %%latex  %%markdown  %%perl  %%prun  %%pypy  %%python  %%python2  %%python3  %%ruby  %%script  %%sh  %%svg  %%sx  %%system  %%time  %%timeit  %%writefile\n",
       "\n",
       "Automagic is ON, % prefix IS NOT needed for line magics."
      ]
     },
     "execution_count": 3,
     "metadata": {},
     "output_type": "execute_result"
    }
   ],
   "source": [
    "%lsmagic"
   ]
  },
  {
   "cell_type": "markdown",
   "id": "831dd53b-4ce6-45d1-b06f-b259ec3d7967",
   "metadata": {},
   "source": [
    "<br>\n",
    "\n",
    "### Magic Command Explanation"
   ]
  },
  {
   "cell_type": "code",
   "execution_count": 4,
   "id": "cb647fcf-7266-4c1b-a28c-5ae09de577bb",
   "metadata": {},
   "outputs": [
    {
     "data": {
      "text/plain": [
       "\n",
       "IPython -- An enhanced Interactive Python - Quick Reference Card\n",
       "================================================================\n",
       "\n",
       "obj?, obj??      : Get help, or more help for object (also works as\n",
       "                   ?obj, ??obj).\n",
       "?foo.*abc*       : List names in 'foo' containing 'abc' in them.\n",
       "%magic           : Information about IPython's 'magic' % functions.\n",
       "\n",
       "Magic functions are prefixed by % or %%, and typically take their arguments\n",
       "without parentheses, quotes or even commas for convenience.  Line magics take a\n",
       "single % and cell magics are prefixed with two %%.\n",
       "\n",
       "Example magic function calls:\n",
       "\n",
       "%alias d ls -F   : 'd' is now an alias for 'ls -F'\n",
       "alias d ls -F    : Works if 'alias' not a python name\n",
       "alist = %alias   : Get list of aliases to 'alist'\n",
       "cd /usr/share    : Obvious. cd -<tab> to choose from visited dirs.\n",
       "%cd??            : See help AND source for magic %cd\n",
       "%timeit x=10     : time the 'x=10' statement with high precision.\n",
       "%%timeit x=2**100\n",
       "x**100           : time 'x**100' with a setup of 'x=2**100'; setup code is not\n",
       "                   counted.  This is an example of a cell magic.\n",
       "\n",
       "System commands:\n",
       "\n",
       "!cp a.txt b/     : System command escape, calls os.system()\n",
       "cp a.txt b/      : after %rehashx, most system commands work without !\n",
       "cp ${f}.txt $bar : Variable expansion in magics and system commands\n",
       "files = !ls /usr : Capture system command output\n",
       "files.s, files.l, files.n: \"a b c\", ['a','b','c'], 'a\\nb\\nc'\n",
       "\n",
       "History:\n",
       "\n",
       "_i, _ii, _iii    : Previous, next previous, next next previous input\n",
       "_i4, _ih[2:5]    : Input history line 4, lines 2-4\n",
       "exec(_i81)       : Execute input history line #81 again\n",
       "%rep 81          : Edit input history line #81\n",
       "_, __, ___       : previous, next previous, next next previous output\n",
       "_dh              : Directory history\n",
       "_oh              : Output history\n",
       "%hist            : Command history of current session.\n",
       "%hist -g foo     : Search command history of (almost) all sessions for 'foo'.\n",
       "%hist -g         : Command history of (almost) all sessions.\n",
       "%hist 1/2-8      : Command history containing lines 2-8 of session 1.\n",
       "%hist 1/ ~2/     : Command history of session 1 and 2 sessions before current.\n",
       "%hist ~8/1-~6/5  : Command history from line 1 of 8 sessions ago to\n",
       "                   line 5 of 6 sessions ago.\n",
       "%edit 0/         : Open editor to execute code with history of current session.\n",
       "\n",
       "Autocall:\n",
       "\n",
       "f 1,2            : f(1,2)  # Off by default, enable with %autocall magic.\n",
       "/f 1,2           : f(1,2) (forced autoparen)\n",
       ",f 1 2           : f(\"1\",\"2\")\n",
       ";f 1 2           : f(\"1 2\")\n",
       "\n",
       "Remember: TAB completion works in many contexts, not just file names\n",
       "or python names.\n",
       "\n",
       "The following magic functions are currently available:\n",
       "\n",
       "%alias:\n",
       "    Define an alias for a system command.\n",
       "%alias_magic:\n",
       "    ::\n",
       "%autoawait:\n",
       "    \n",
       "%autocall:\n",
       "    Make functions callable without having to type parentheses.\n",
       "%automagic:\n",
       "    Make magic functions callable without having to type the initial %.\n",
       "%autosave:\n",
       "    Set the autosave interval in the notebook (in seconds).\n",
       "%bookmark:\n",
       "    Manage IPython's bookmark system.\n",
       "%cat:\n",
       "    Alias for `!cat`\n",
       "%cd:\n",
       "    Change the current working directory.\n",
       "%clear:\n",
       "    Clear the terminal.\n",
       "%code_wrap:\n",
       "    ::\n",
       "%colors:\n",
       "    Switch color scheme for prompts, info system and exception handlers.\n",
       "%conda:\n",
       "    Run the conda package manager within the current kernel.\n",
       "%config:\n",
       "    configure IPython\n",
       "%connect_info:\n",
       "    Print information for connecting other clients to this kernel\n",
       "%cp:\n",
       "    Alias for `!cp`\n",
       "%debug:\n",
       "    ::\n",
       "%dhist:\n",
       "    Print your history of visited directories.\n",
       "%dirs:\n",
       "    Return the current directory stack.\n",
       "%doctest_mode:\n",
       "    Toggle doctest mode on and off.\n",
       "%ed:\n",
       "    Alias for `%edit`.\n",
       "%edit:\n",
       "    Bring up an editor and execute the resulting code.\n",
       "%env:\n",
       "    Get, set, or list environment variables.\n",
       "%gui:\n",
       "    Enable or disable IPython GUI event loop integration.\n",
       "%hist:\n",
       "    Alias for `%history`.\n",
       "%history:\n",
       "    ::\n",
       "%killbgscripts:\n",
       "    Kill all BG processes started by %%script and its family.\n",
       "%ldir:\n",
       "    Alias for `!ls -F -o --color %l | grep /$`\n",
       "%less:\n",
       "    Show a file through the pager.\n",
       "%lf:\n",
       "    Alias for `!ls -F -o --color %l | grep ^-`\n",
       "%lk:\n",
       "    Alias for `!ls -F -o --color %l | grep ^l`\n",
       "%ll:\n",
       "    Alias for `!ls -F -o --color`\n",
       "%load:\n",
       "    Load code into the current frontend.\n",
       "%load_ext:\n",
       "    Load an IPython extension by its module name.\n",
       "%loadpy:\n",
       "    Alias of `%load`\n",
       "%logoff:\n",
       "    Temporarily stop logging.\n",
       "%logon:\n",
       "    Restart logging.\n",
       "%logstart:\n",
       "    Start logging anywhere in a session.\n",
       "%logstate:\n",
       "    Print the status of the logging system.\n",
       "%logstop:\n",
       "    Fully stop logging and close log file.\n",
       "%ls:\n",
       "    Alias for `!ls -F --color`\n",
       "%lsmagic:\n",
       "    List currently available magic functions.\n",
       "%lx:\n",
       "    Alias for `!ls -F -o --color %l | grep ^-..x`\n",
       "%macro:\n",
       "    Define a macro for future re-execution. It accepts ranges of history,\n",
       "%magic:\n",
       "    Print information about the magic function system.\n",
       "%man:\n",
       "    Find the man page for the given command and display in pager.\n",
       "%matplotlib:\n",
       "    ::\n",
       "%mkdir:\n",
       "    Alias for `!mkdir`\n",
       "%more:\n",
       "    Show a file through the pager.\n",
       "%mv:\n",
       "    Alias for `!mv`\n",
       "%notebook:\n",
       "    ::\n",
       "%page:\n",
       "    Pretty print the object and display it through a pager.\n",
       "%pastebin:\n",
       "    Upload code to dpaste.com, returning the URL.\n",
       "%pdb:\n",
       "    Control the automatic calling of the pdb interactive debugger.\n",
       "%pdef:\n",
       "    Print the call signature for any callable object.\n",
       "%pdoc:\n",
       "    Print the docstring for an object.\n",
       "%pfile:\n",
       "    Print (or run through pager) the file where an object is defined.\n",
       "%pinfo:\n",
       "    Provide detailed information about an object.\n",
       "%pinfo2:\n",
       "    Provide extra detailed information about an object.\n",
       "%pip:\n",
       "    Run the pip package manager within the current kernel.\n",
       "%popd:\n",
       "    Change to directory popped off the top of the stack.\n",
       "%pprint:\n",
       "    Toggle pretty printing on/off.\n",
       "%precision:\n",
       "    Set floating point precision for pretty printing.\n",
       "%prun:\n",
       "    Run a statement through the python code profiler.\n",
       "%psearch:\n",
       "    Search for object in namespaces by wildcard.\n",
       "%psource:\n",
       "    Print (or run through pager) the source code for an object.\n",
       "%pushd:\n",
       "    Place the current dir on stack and change directory.\n",
       "%pwd:\n",
       "    Return the current working directory path.\n",
       "%pycat:\n",
       "    Show a syntax-highlighted file through a pager.\n",
       "%pylab:\n",
       "    ::\n",
       "%qtconsole:\n",
       "    Open a qtconsole connected to this kernel.\n",
       "%quickref:\n",
       "    Show a quick reference sheet \n",
       "%recall:\n",
       "    Repeat a command, or get command to input line for editing.\n",
       "%rehashx:\n",
       "    Update the alias table with all executable files in $PATH.\n",
       "%reload_ext:\n",
       "    Reload an IPython extension by its module name.\n",
       "%rep:\n",
       "    Alias for `%recall`.\n",
       "%rerun:\n",
       "    Re-run previous input\n",
       "%reset:\n",
       "    Resets the namespace by removing all names defined by the user, if\n",
       "%reset_selective:\n",
       "    Resets the namespace by removing names defined by the user.\n",
       "%rm:\n",
       "    Alias for `!rm`\n",
       "%rmdir:\n",
       "    Alias for `!rmdir`\n",
       "%run:\n",
       "    Run the named file inside IPython as a program.\n",
       "%save:\n",
       "    Save a set of lines or a macro to a given filename.\n",
       "%sc:\n",
       "    Shell capture - run shell command and capture output (DEPRECATED use !).\n",
       "%set_env:\n",
       "    Set environment variables.  Assumptions are that either \"val\" is a\n",
       "%store:\n",
       "    Lightweight persistence for python variables.\n",
       "%sx:\n",
       "    Shell execute - run shell command and capture output (!! is short-hand).\n",
       "%system:\n",
       "    Shell execute - run shell command and capture output (!! is short-hand).\n",
       "%tb:\n",
       "    Print the last traceback.\n",
       "%time:\n",
       "    Time execution of a Python statement or expression.\n",
       "%timeit:\n",
       "    Time execution of a Python statement or expression\n",
       "%unalias:\n",
       "    Remove an alias\n",
       "%unload_ext:\n",
       "    Unload an IPython extension by its module name.\n",
       "%who:\n",
       "    Print all interactive variables, with some minimal formatting.\n",
       "%who_ls:\n",
       "    Return a sorted list of all interactive variables.\n",
       "%whos:\n",
       "    Like %who, but gives some extra information about each variable.\n",
       "%xdel:\n",
       "    Delete a variable, trying to clear it from anywhere that\n",
       "%xmode:\n",
       "    Switch modes for the exception handlers.\n",
       "%%!:\n",
       "    Shell execute - run shell command and capture output (!! is short-hand).\n",
       "%%HTML:\n",
       "    Alias for `%%html`.\n",
       "%%SVG:\n",
       "    Alias for `%%svg`.\n",
       "%%bash:\n",
       "    %%bash script magic\n",
       "%%capture:\n",
       "    ::\n",
       "%%code_wrap:\n",
       "    ::\n",
       "%%debug:\n",
       "    ::\n",
       "%%file:\n",
       "    Alias for `%%writefile`.\n",
       "%%html:\n",
       "    ::\n",
       "%%javascript:\n",
       "    Run the cell block of Javascript code\n",
       "%%js:\n",
       "    Run the cell block of Javascript code\n",
       "%%latex:\n",
       "    Render the cell as a block of LaTeX\n",
       "%%markdown:\n",
       "    Render the cell as Markdown text block\n",
       "%%perl:\n",
       "    %%perl script magic\n",
       "%%prun:\n",
       "    Run a statement through the python code profiler.\n",
       "%%pypy:\n",
       "    %%pypy script magic\n",
       "%%python:\n",
       "    %%python script magic\n",
       "%%python2:\n",
       "    %%python2 script magic\n",
       "%%python3:\n",
       "    %%python3 script magic\n",
       "%%ruby:\n",
       "    %%ruby script magic\n",
       "%%script:\n",
       "    ::\n",
       "%%sh:\n",
       "    %%sh script magic\n",
       "%%svg:\n",
       "    Render the cell as an SVG literal\n",
       "%%sx:\n",
       "    Shell execute - run shell command and capture output (!! is short-hand).\n",
       "%%system:\n",
       "    Shell execute - run shell command and capture output (!! is short-hand).\n",
       "%%time:\n",
       "    Time execution of a Python statement or expression.\n",
       "%%timeit:\n",
       "    Time execution of a Python statement or expression\n",
       "%%writefile:\n",
       "    ::\n"
      ]
     },
     "metadata": {},
     "output_type": "display_data"
    }
   ],
   "source": [
    "%quickref"
   ]
  },
  {
   "cell_type": "markdown",
   "id": "49880b39-ccb2-4178-9eea-9fb42be19581",
   "metadata": {},
   "source": [
    "### Examples of Magic Commands"
   ]
  },
  {
   "cell_type": "markdown",
   "id": "1f2f55df-39ba-4d19-b2a6-e87dc3589b0e",
   "metadata": {},
   "source": [
    "#### Print Working Directory"
   ]
  },
  {
   "cell_type": "code",
   "execution_count": 5,
   "id": "d5327fc8-04e6-483a-8747-5c77d0a9cc9d",
   "metadata": {},
   "outputs": [
    {
     "data": {
      "text/plain": [
       "'/notebook_dir/mypublic/Tutorial/marble-eda-ml-tutorial/contents/1_Computing_Environment'"
      ]
     },
     "execution_count": 5,
     "metadata": {},
     "output_type": "execute_result"
    }
   ],
   "source": [
    "%pwd"
   ]
  },
  {
   "cell_type": "markdown",
   "id": "ba2fe6ca-fad8-48b1-9aec-8754c4441c5c",
   "metadata": {},
   "source": [
    "<br>\n",
    "<br>\n",
    "\n",
    "#### Change Working Directory"
   ]
  },
  {
   "cell_type": "code",
   "execution_count": 6,
   "id": "ba02ef1e-9ecd-40b8-929c-18262736feaf",
   "metadata": {},
   "outputs": [
    {
     "name": "stdout",
     "output_type": "stream",
     "text": [
      "/notebook_dir/mypublic/Tutorial/marble-eda-ml-tutorial\n"
     ]
    }
   ],
   "source": [
    "%cd /notebook_dir/mypublic/Tutorial/marble-eda-ml-tutorial/"
   ]
  },
  {
   "cell_type": "code",
   "execution_count": 7,
   "id": "95dd9ec4-b2a2-4cf0-9716-72444aee140b",
   "metadata": {},
   "outputs": [
    {
     "data": {
      "text/plain": [
       "'/notebook_dir/mypublic/Tutorial/marble-eda-ml-tutorial'"
      ]
     },
     "execution_count": 7,
     "metadata": {},
     "output_type": "execute_result"
    }
   ],
   "source": [
    "# Checking directory\n",
    "%pwd"
   ]
  },
  {
   "cell_type": "markdown",
   "id": "9e6725d1-702a-4222-83af-f7bee70b13c2",
   "metadata": {},
   "source": [
    "<br>\n",
    "<br>\n",
    "\n",
    "#### List Files Within Folder"
   ]
  },
  {
   "cell_type": "code",
   "execution_count": 8,
   "id": "bf84f6d5-18df-43a1-974b-4444ddd79914",
   "metadata": {},
   "outputs": [
    {
     "name": "stdout",
     "output_type": "stream",
     "text": [
      "_config.yml  markdown.md            notebooks.ipynb     references.bib\n",
      "\u001b[0m\u001b[01;34mcontents\u001b[0m/    markdown-notebooks.md  Project_Plan.ipynb  requirements.txt\n",
      "logo.png     ML-on-Marble.md        README.md           _toc.yml\n"
     ]
    }
   ],
   "source": [
    "%ls"
   ]
  },
  {
   "cell_type": "markdown",
   "id": "a9bbf657-8a7f-45ea-a685-527a290d59c8",
   "metadata": {},
   "source": [
    "<br>\n",
    "<br>\n",
    "\n",
    "#### Checking Last n commands"
   ]
  },
  {
   "cell_type": "code",
   "execution_count": 9,
   "id": "0f365baf-adf6-4ef9-9e00-d76521dfa02d",
   "metadata": {},
   "outputs": [
    {
     "name": "stdout",
     "output_type": "stream",
     "text": [
      "   1:\n",
      "# This is a coding cell\n",
      "print('Welcome to Marble!')\n",
      "\n",
      "# Press 'Shift + Enter' to execute the cell\n",
      "   2:\n",
      "# Jupyter notebook works both as a coding console and a notebook\n",
      "# To write long text, we can use a markdown cell\n",
      "\n",
      "# First enter command mode by pressing 'ESC'\n",
      "# Press 'M' to convert cell to markdown\n",
      "   3: %lsmagic\n",
      "   4: %quickref\n",
      "   5: %pwd\n",
      "   6: %cd /notebook_dir/mypublic/Tutorial/marble-eda-ml-tutorial/\n",
      "   7:\n",
      "# Checking directory\n",
      "%pwd\n",
      "   8: %ls\n",
      "   9: %history -n\n"
     ]
    }
   ],
   "source": [
    "%history -n"
   ]
  },
  {
   "cell_type": "markdown",
   "id": "880f81e1-9f6c-43b1-9dc7-d9069760add3",
   "metadata": {},
   "source": [
    "<br>\n",
    "<br>\n",
    "\n",
    "#### Runtime of Cell"
   ]
  },
  {
   "cell_type": "code",
   "execution_count": 10,
   "id": "10385dd2-d3c5-475b-9de9-397c62eb97cc",
   "metadata": {},
   "outputs": [
    {
     "name": "stdout",
     "output_type": "stream",
     "text": [
      "CPU times: user 4 µs, sys: 0 ns, total: 4 µs\n",
      "Wall time: 12.2 µs\n",
      "Welcome to Marble!\n"
     ]
    }
   ],
   "source": [
    "# Line command\n",
    "%time\n",
    "\n",
    "print(\"Welcome to Marble!\")\n",
    "for i in range(200):\n",
    "    continue"
   ]
  },
  {
   "cell_type": "code",
   "execution_count": 11,
   "id": "96a37565-173c-49c5-b109-550b09d2b7a8",
   "metadata": {},
   "outputs": [
    {
     "name": "stdout",
     "output_type": "stream",
     "text": [
      "Welcome to Marble!\n",
      "CPU times: user 87 µs, sys: 13 µs, total: 100 µs\n",
      "Wall time: 88.5 µs\n"
     ]
    }
   ],
   "source": [
    "%%time\n",
    "# Cell Command\n",
    "\n",
    "print(\"Welcome to Marble!\")\n",
    "for i in range(200):\n",
    "    continue"
   ]
  },
  {
   "cell_type": "markdown",
   "id": "30b76c48-7a7e-4961-9131-b826303985bf",
   "metadata": {},
   "source": [
    "Note the explicit difference between `%` and `%%` with the `time` command. "
   ]
  },
  {
   "cell_type": "markdown",
   "id": "74b1b72d-0f33-4739-aae4-de4aca65ce77",
   "metadata": {},
   "source": [
    "As we've discovered, there are many other magic commands available in IPython. For a comprehensive understanding of these commands and their functionalities, I recommend exploring the official documentation [here](https://ipython.readthedocs.io/en/stable/interactive/magics.html#).\n",
    "\n",
    "Let's move on to an Introduction to Unix."
   ]
  }
 ],
 "metadata": {
  "kernelspec": {
   "display_name": "Python 3 (ipykernel)",
   "language": "python",
   "name": "python3"
  },
  "language_info": {
   "codemirror_mode": {
    "name": "ipython",
    "version": 3
   },
   "file_extension": ".py",
   "mimetype": "text/x-python",
   "name": "python",
   "nbconvert_exporter": "python",
   "pygments_lexer": "ipython3",
   "version": "3.11.6"
  }
 },
 "nbformat": 4,
 "nbformat_minor": 5
}
