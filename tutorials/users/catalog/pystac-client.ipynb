{
 "cells": [
  {
   "cell_type": "markdown",
   "id": "277e13cf-d858-450d-8134-7cbf4b2b0623",
   "metadata": {},
   "source": [
    "# Python client"
   ]
  },
  {
   "cell_type": "markdown",
   "id": "5fc75ef1-9335-4505-9e5c-ee1d4600b586",
   "metadata": {},
   "source": [
    "The web interface (STAC Browser) discussed in the previous section is great for: \n",
    "* quickly exploring the catalog to see what data is available on the network\n",
    "* for examining the properties of various collections, and\n",
    "* for quickly getting access links to a small number of files.\n",
    "\n",
    "If your analysis is limited to using selected data files, then you could hardcode the access links to \n",
    "those files that you obtained from the STAC Browser. However, often you might need several data files from a collection \n",
    "and manually searching for and copy-pasting the links to those files from the Browser into your notebooks is not feasible, \n",
    "and a programmatic approach becomes immediately desirable.\n",
    "\n",
    "A more serious limitation of hardcoding access links from the web interface \n",
    "is that if the links for the data change, then your code will not function unless you manually update the code with the \n",
    "new links (again obtained from a manual search in the STAC Browser). This can lead to your code becoming less reproducible \n",
    "and can create problems for you down the line and problems for anyone with whom you've shared the code. For these reasons \n",
    "we recommend that you limit the usage of the web interface to the first two aforementioned use cases, and for accessing data links, you \n",
    "use the programmatic approach described here."
   ]
  },
  {
   "cell_type": "markdown",
   "id": "613014df-a557-41f1-a22c-3159e2bd2979",
   "metadata": {},
   "source": [
    "## pystac-client"
   ]
  },
  {
   "cell_type": "markdown",
   "id": "94cdba30-fa1c-4a6d-9e34-6b296b6d45ad",
   "metadata": {},
   "source": [
    "The library that we will use to programmatically interact and query the Marble STAC catalog is called [`pystac-client`](https://pystac-client.readthedocs.io/en/stable/). This is built on the robust [`pystac`](https://pystac.readthedocs.io/en/stable/) library for creating and reading STAC Catalogs, \n",
    "and extends that by allowing the ability to work with a STAC API. We highly encourage you to look at the [tutorials](https://pystac-client.readthedocs.io/en/stable/tutorials.html) on the `pystac-client` \n",
    "readthedocs page before proceeding further.\n",
    "\n",
    "`pystac-client` comes installed in your Marble JupyterLab environments. If you are following along on a different platform, \n",
    "you can install it per the instructions [here](https://github.com/stac-utils/pystac-client).\n",
    "\n",
    "```{note}\n",
    "This tutorial will use the Marble platform's CMIP6 data stored on the Red Oak node as an example.\n",
    "```"
   ]
  },
  {
   "cell_type": "markdown",
   "id": "07b1e412-2b7e-4d9e-aa10-7550180e6c84",
   "metadata": {},
   "source": [
    "## Connecting to Marble STAC API"
   ]
  },
  {
   "cell_type": "markdown",
   "id": "c1623ca9-3ff1-4d00-84a0-18d501d51012",
   "metadata": {},
   "source": [
    "The Red Oak node's STAC API can be reached at <http://daccs.cs.toronto.edu/stac>. We start by importing the `pystac_client` library."
   ]
  },
  {
   "cell_type": "code",
   "execution_count": 1,
   "id": "6743402f-61ec-417b-9284-ad6778682dfd",
   "metadata": {},
   "outputs": [],
   "source": [
    "import pystac_client"
   ]
  },
  {
   "cell_type": "markdown",
   "id": "5d0ad4b9-8424-4556-bad7-f57eafca083f",
   "metadata": {},
   "source": [
    "Now, we use the [`Client.open`](https://pystac-client.readthedocs.io/en/stable/api.html#pystac_client.Client.open) function call to make a connection to the STAC API."
   ]
  },
  {
   "cell_type": "code",
   "execution_count": 2,
   "id": "4ab25e11-8518-4095-8ed6-c4eab436891b",
   "metadata": {},
   "outputs": [],
   "source": [
    "catalog = pystac_client.Client.open(\"http://daccs.cs.toronto.edu/stac\")"
   ]
  },
  {
   "cell_type": "code",
   "execution_count": 3,
   "id": "e2ddd108-608e-476b-a9e2-0b1f9b63b8ec",
   "metadata": {},
   "outputs": [
    {
     "data": {
      "text/plain": [
       "pystac_client.client.Client"
      ]
     },
     "execution_count": 3,
     "metadata": {},
     "output_type": "execute_result"
    }
   ],
   "source": [
    "type(catalog)"
   ]
  },
  {
   "cell_type": "markdown",
   "id": "de727f6f-1c86-4590-8749-22e951fa58d8",
   "metadata": {
    "user_expressions": [
     {
      "expression": "type(catalog)",
      "result": {
       "data": {
        "text/plain": "pystac_client.client.Client"
       },
       "metadata": {},
       "status": "ok"
      }
     }
    ]
   },
   "source": [
    "That's it! We've made a successful connection to the API. We now have a [{eval}`type(catalog)`](https://pystac-client.readthedocs.io/en/stable/api.html#client) object named here `catalog` that we will use for all further interactions with the API."
   ]
  },
  {
   "cell_type": "markdown",
   "id": "7fb083ee-26bd-44f5-b4bf-0f6f13174a6e",
   "metadata": {},
   "source": [
    "### Examining the Client object"
   ]
  },
  {
   "cell_type": "markdown",
   "id": "3b5edbea-7da9-4cc2-86f3-a5f81e0c7413",
   "metadata": {},
   "source": [
    "Before we get into searching for catalog items, let's examine a few things that we can do with the `Client` object that we've created above.\n",
    "Red Oak's STAC endpoint contains various information about the catalog in JSON format, which has been copied here:\n",
    "\n",
    "```{caution}\n",
    "This content can be out of sync with the latest information on the API endpoint, this material is included here just for illustrative purposes.\n",
    "```\n",
    "\n",
    "```json\n",
    "{\n",
    "  \"type\": \"Catalog\",\n",
    "  \"id\": \"stac-fastapi\",\n",
    "  \"title\": \"Data Analytics for Canadian Climate Services STAC API\",\n",
    "  \"description\": \"Searchable spatiotemporal metadata describing climate and Earth observation datasets.\",\n",
    "  \"stac_version\": \"1.0.0\",\n",
    "  \"conformsTo\": [\n",
    "    \"https://api.stacspec.org/v1.0.0-rc.1/item-search#filter:basic-cql\",\n",
    "    \"https://api.stacspec.org/v1.0.0-rc.1/collections\",\n",
    "    \"https://api.stacspec.org/v1.0.0-rc.1/core\",\n",
    "    \"http://www.opengis.net/spec/ogcapi-features-1/1.0/conf/core\",\n",
    "    \"https://api.stacspec.org/v1.0.0-rc.1/item-search#filter\",\n",
    "    \"https://api.stacspec.org/v1.0.0-rc.1/item-search#sort\",\n",
    "    \"https://api.stacspec.org/v1.0.0-rc.1/item-search#fields\",\n",
    "    \"http://www.opengis.net/spec/ogcapi-features-3/1.0/conf/features-filter\",\n",
    "    \"https://api.stacspec.org/v1.0.0-rc.1/item-search#query\",\n",
    "    \"https://api.stacspec.org/v1.0.0-rc.1/item-search#context\",\n",
    "    \"https://api.stacspec.org/v1.0.0-rc.1/ogcapi-features\",\n",
    "    \"https://api.stacspec.org/v1.0.0-rc.1/ogcapi-features/extensions/transaction\",\n",
    "    \"http://www.opengis.net/spec/ogcapi-features-4/1.0/conf/simpletx\",\n",
    "    \"http://www.opengis.net/spec/ogcapi-features-3/1.0/conf/filter\",\n",
    "    \"http://www.opengis.net/spec/ogcapi-features-1/1.0/conf/geojson\",\n",
    "    \"http://www.opengis.net/spec/ogcapi-features-1/1.0/conf/oas30\",\n",
    "    \"https://api.stacspec.org/v1.0.0-rc.1/item-search#filter:cql-text\",\n",
    "    \"https://api.stacspec.org/v1.0.0-rc.1/item-search\"\n",
    "  ],\n",
    "  \"links\": [\n",
    "    {\n",
    "      \"rel\": \"self\",\n",
    "      \"type\": \"application/json\",\n",
    "      \"href\": \"https://daccs.cs.toronto.edu/stac/\"\n",
    "    },\n",
    "    {\n",
    "      \"rel\": \"root\",\n",
    "      \"type\": \"application/json\",\n",
    "      \"href\": \"https://daccs.cs.toronto.edu/stac/\"\n",
    "    },\n",
    "    {\n",
    "      \"rel\": \"data\",\n",
    "      \"type\": \"application/json\",\n",
    "      \"href\": \"https://daccs.cs.toronto.edu/stac/collections\"\n",
    "    },\n",
    "    {\n",
    "      \"rel\": \"conformance\",\n",
    "      \"type\": \"application/json\",\n",
    "      \"title\": \"STAC/WFS3 conformance classes implemented by this server\",\n",
    "      \"href\": \"https://daccs.cs.toronto.edu/stac/conformance\"\n",
    "    },\n",
    "    {\n",
    "      \"rel\": \"search\",\n",
    "      \"type\": \"application/geo+json\",\n",
    "      \"title\": \"STAC search\",\n",
    "      \"href\": \"https://daccs.cs.toronto.edu/stac/search\",\n",
    "      \"method\": \"GET\"\n",
    "    },\n",
    "    {\n",
    "      \"rel\": \"search\",\n",
    "      \"type\": \"application/geo+json\",\n",
    "      \"title\": \"STAC search\",\n",
    "      \"href\": \"https://daccs.cs.toronto.edu/stac/search\",\n",
    "      \"method\": \"POST\"\n",
    "    },\n",
    "    {\n",
    "      \"rel\": \"child\",\n",
    "      \"type\": \"application/json\",\n",
    "      \"title\": \"CMIP6\",\n",
    "      \"href\": \"https://daccs.cs.toronto.edu/stac/collections/CMIP6_UofT\"\n",
    "    },\n",
    "    {\n",
    "      \"rel\": \"service-desc\",\n",
    "      \"type\": \"application/vnd.oai.openapi+json;version=3.0\",\n",
    "      \"title\": \"OpenAPI service description\",\n",
    "      \"href\": \"https://daccs.cs.toronto.edu/stac/api\"\n",
    "    },\n",
    "    {\n",
    "      \"rel\": \"service-doc\",\n",
    "      \"type\": \"text/html\",\n",
    "      \"title\": \"OpenAPI service documentation\",\n",
    "      \"href\": \"https://daccs.cs.toronto.edu/stac/api.html\"\n",
    "    }\n",
    "  ],\n",
    "  \"stac_extensions\": [\n",
    "    \"https://raw.githubusercontent.com/radiantearth/stac-api-spec/v1.0.0-rc.1/fragments/context/json-schema/schema.json\"\n",
    "  ]\n",
    "}\n",
    "```\n",
    "\n",
    "All this information can be accessed using the `Client` object that we created. For instance, you can get the title and description of the API endpoint:"
   ]
  },
  {
   "cell_type": "code",
   "execution_count": 4,
   "id": "06f069d3-323e-49e0-9385-0d785e212a5c",
   "metadata": {},
   "outputs": [
    {
     "name": "stdout",
     "output_type": "stream",
     "text": [
      "Catalog title        : Data Analytics for Canadian Climate Services STAC API\n",
      "Catalog description  : Searchable spatiotemporal metadata describing climate and Earth observation datasets.\n"
     ]
    }
   ],
   "source": [
    "print(f\"Catalog title        : {catalog.title}\")\n",
    "print(f\"Catalog description  : {catalog.description}\")"
   ]
  },
  {
   "cell_type": "markdown",
   "id": "6e2b70f2-fce1-46ea-a5fc-cbbf2d425e22",
   "metadata": {},
   "source": [
    "Information on the STAC extensions used and the conformance standards of the API can be accessed as:"
   ]
  },
  {
   "cell_type": "code",
   "execution_count": 5,
   "id": "c0065a36-b868-4578-b906-641005771e84",
   "metadata": {},
   "outputs": [
    {
     "name": "stdout",
     "output_type": "stream",
     "text": [
      "STAC Extensions:\n",
      "https://raw.githubusercontent.com/radiantearth/stac-api-spec/v1.0.0-rc.1/fragments/context/json-schema/schema.json\n",
      "\n",
      "Conformances:\n",
      "https://api.stacspec.org/v1.0.0-rc.1/item-search#filter:basic-cql\n",
      "https://api.stacspec.org/v1.0.0-rc.1/collections\n",
      "https://api.stacspec.org/v1.0.0-rc.1/core\n",
      "http://www.opengis.net/spec/ogcapi-features-1/1.0/conf/core\n",
      "https://api.stacspec.org/v1.0.0-rc.1/item-search#filter\n",
      "https://api.stacspec.org/v1.0.0-rc.1/item-search#sort\n",
      "https://api.stacspec.org/v1.0.0-rc.1/item-search#fields\n",
      "http://www.opengis.net/spec/ogcapi-features-3/1.0/conf/features-filter\n",
      "https://api.stacspec.org/v1.0.0-rc.1/item-search#query\n",
      "https://api.stacspec.org/v1.0.0-rc.1/item-search#context\n",
      "https://api.stacspec.org/v1.0.0-rc.1/ogcapi-features\n",
      "https://api.stacspec.org/v1.0.0-rc.1/ogcapi-features/extensions/transaction\n",
      "http://www.opengis.net/spec/ogcapi-features-4/1.0/conf/simpletx\n",
      "http://www.opengis.net/spec/ogcapi-features-3/1.0/conf/filter\n",
      "http://www.opengis.net/spec/ogcapi-features-1/1.0/conf/geojson\n",
      "http://www.opengis.net/spec/ogcapi-features-1/1.0/conf/oas30\n",
      "https://api.stacspec.org/v1.0.0-rc.1/item-search#filter:cql-text\n",
      "https://api.stacspec.org/v1.0.0-rc.1/item-search\n"
     ]
    }
   ],
   "source": [
    "print(\"STAC Extensions:\")\n",
    "for item in catalog.stac_extensions:\n",
    "    print(item)\n",
    "\n",
    "print(\"\\nConformances:\")\n",
    "for item in catalog.extra_fields['conformsTo']:\n",
    "    print(item)"
   ]
  },
  {
   "cell_type": "markdown",
   "id": "6f474361-d0f1-4a83-9904-2fb177d1e4d3",
   "metadata": {},
   "source": [
    "The links in the catalog can be accessed as:"
   ]
  },
  {
   "cell_type": "code",
   "execution_count": 6,
   "id": "844a3b60-1c6a-434d-aa11-1904f03a2515",
   "metadata": {},
   "outputs": [
    {
     "data": {
      "text/plain": [
       "[<Link rel=self target=http://daccs.cs.toronto.edu/stac>,\n",
       " <Link rel=root target=https://daccs.cs.toronto.edu/stac/>,\n",
       " <Link rel=data target=https://daccs.cs.toronto.edu/stac/collections>,\n",
       " <Link rel=conformance target=https://daccs.cs.toronto.edu/stac/conformance>,\n",
       " <Link rel=search target=https://daccs.cs.toronto.edu/stac/search>,\n",
       " <Link rel=search target=https://daccs.cs.toronto.edu/stac/search>,\n",
       " <Link rel=child target=https://daccs.cs.toronto.edu/stac/collections/CMIP6_UofT>,\n",
       " <Link rel=service-desc target=https://daccs.cs.toronto.edu/stac/api>,\n",
       " <Link rel=service-doc target=https://daccs.cs.toronto.edu/stac/api.html>]"
      ]
     },
     "execution_count": 6,
     "metadata": {},
     "output_type": "execute_result"
    }
   ],
   "source": [
    "catalog.get_links()"
   ]
  },
  {
   "cell_type": "markdown",
   "id": "26e4503c-b9e8-4336-b1c6-b491a6e05f2a",
   "metadata": {},
   "source": [
    "You can get a collection, for example the \"CMIP6_UofT\" collection as follows:"
   ]
  },
  {
   "cell_type": "code",
   "execution_count": 7,
   "id": "245f49a1-e180-4da6-b2b5-05f0ce9f2042",
   "metadata": {},
   "outputs": [
    {
     "data": {
      "text/plain": [
       "pystac_client.collection_client.CollectionClient"
      ]
     },
     "execution_count": 7,
     "metadata": {},
     "output_type": "execute_result"
    }
   ],
   "source": [
    "cmip6_uoft = catalog.get_collection(\"CMIP6_UofT\")\n",
    "type(cmip6_uoft)"
   ]
  },
  {
   "cell_type": "markdown",
   "id": "30dfbbc8-617f-495e-937a-80c5b34bf244",
   "metadata": {},
   "source": [
    "You can also retrieve the URL to the STAC API, if you need:"
   ]
  },
  {
   "cell_type": "code",
   "execution_count": 8,
   "id": "df3e31d9-9c2d-4412-9d91-f9a65cbcd1a6",
   "metadata": {},
   "outputs": [
    {
     "data": {
      "text/plain": [
       "'http://daccs.cs.toronto.edu/stac'"
      ]
     },
     "execution_count": 8,
     "metadata": {},
     "output_type": "execute_result"
    }
   ],
   "source": [
    "catalog.self_href"
   ]
  },
  {
   "cell_type": "markdown",
   "id": "97cdeb0b-278a-428b-aba2-7128acf93f6c",
   "metadata": {},
   "source": [
    "You can use the `Client` and `CollectionClient` object along with the methods shown above (and several others not shown here) to navigate the API programmatically. This is probably not something you want to do; it's better to navigate the catalog [using the STAC Browser](gui-search.md). But this brief introduction is included here to show you how to use the `Client` object for more than just searching, which is the topic to which we now turn."
   ]
  },
  {
   "cell_type": "markdown",
   "id": "79f607a4-5018-42bf-a674-ece00894897a",
   "metadata": {},
   "source": [
    "## Searching for data"
   ]
  },
  {
   "cell_type": "markdown",
   "id": "f7f0a962-a46e-42c6-93d3-a988bc48dcbb",
   "metadata": {},
   "source": [
    "### Basic search operations"
   ]
  },
  {
   "cell_type": "markdown",
   "id": "8e8e0dc4-8003-4a74-8a79-1fd411856a37",
   "metadata": {},
   "source": [
    "To perform search, we will use the `search` function of the `Client` object. Details of the search functionality are exposed below via means of examples."
   ]
  },
  {
   "cell_type": "markdown",
   "id": "e643325a-4fb8-491f-83f6-d86be371196c",
   "metadata": {},
   "source": [
    "(example_1)=\n",
    "**Example 1:** A simple search to get all items in a \"collection\"."
   ]
  },
  {
   "cell_type": "code",
   "execution_count": 9,
   "id": "ecb5a4fc-b903-48cc-a5e8-f0ccc43c50f3",
   "metadata": {},
   "outputs": [
    {
     "name": "stdout",
     "output_type": "stream",
     "text": [
      "'search' is an object of type: <class 'pystac_client.item_search.ItemSearch'>\n",
      "\n",
      "Search returned 6831 items\n"
     ]
    }
   ],
   "source": [
    "search = catalog.search(\n",
    "    collections=[\"CMIP6_UofT\"],  # This means search for all items in the \"CMIP6_UofT\" collection.\n",
    ")\n",
    "# All information about the search we just performed is now in the 'search' object, which is \n",
    "# of type pystac_client.item_search.ItemSearch.\n",
    "print(f\"'search' is an object of type: {type(search)}\\n\")\n",
    "# We can count the number of items that were found as follows:\n",
    "print(f\"Search returned {len(search.item_collection())} items\")"
   ]
  },
  {
   "cell_type": "markdown",
   "id": "71e79e4e-135a-41cd-b0ab-57bcfe792280",
   "metadata": {},
   "source": [
    "This example shows how easy it is to get all items belonging to a STAC collection on the Marble network. Note that this example does not show how to retrieve the individual items in the search result or get their access URLs, that is discussed in [a later section](ret_info)."
   ]
  },
  {
   "cell_type": "markdown",
   "id": "8ea0fcc1-0e42-4530-bb1a-5798b732d8e5",
   "metadata": {},
   "source": [
    "(example_2)=\n",
    "**Example 2:** Let's say you know the unique ID's of the data items within a collection, and your objective is to get those data items (so that you can then get their access links). How do you do that?\n",
    "\n",
    "```{note}\n",
    "In our example, the ID for a CMIP6 item in the \"CMIP6_UofT\" collection is constructed using the following format:  \n",
    "*{activity_id}\\_{institution_id}\\_{source_id}\\_{experiment_id}\\_{variant_label}\\_{table_id}\\_{variable_id}\\_{grid_label}*  \n",
    "where,  each item in parenthesis is a term from the [CMIP6 Controlled Vocabulary](https://github.com/WCRP-CMIP/CMIP6_CVs).\n",
    "```\n"
   ]
  },
  {
   "cell_type": "code",
   "execution_count": 10,
   "id": "cf62b0a8-f801-4ae3-a1ed-4b17b0160a5a",
   "metadata": {},
   "outputs": [
    {
     "name": "stdout",
     "output_type": "stream",
     "text": [
      "Search returned 2 items\n"
     ]
    }
   ],
   "source": [
    "search = catalog.search(\n",
    "    collections=[\"CMIP6_UofT\"],\n",
    "    # Here, we are looking for the following two items\n",
    "    ids=[\"CMIP_UCSB_E3SM-1-0_historical_r8i2p2f1_Amon_tas_gr\", \"CMIP_UCSB_E3SM-1-0_historical_r9i2p2f1_Amon_clt_gr\"],\n",
    ")\n",
    "\n",
    "print(f\"Search returned {len(search.item_collection())} items\")"
   ]
  },
  {
   "cell_type": "markdown",
   "id": "500fe975-1601-47a5-b3ab-ef57b9b3b860",
   "metadata": {},
   "source": [
    "1. Since we are seaching for two items, and since IDs on a STAC catalog have to be unique, we received two search results. Anything different would be wrong.\n",
    "2. In [Example 2](example_2), you may choose to omit the parameter `collection` parameter to the search since IDs are unique in a STAC catalog."
   ]
  },
  {
   "cell_type": "markdown",
   "id": "d4bfe2db-5c4d-4ae7-99cf-98cf5bb9973c",
   "metadata": {},
   "source": [
    "### Advanced search operations\n",
    "\n",
    "The standard STAC implementation provides, by default, the ability to search on a few key fields that are common to all STAC data structures, such as \"collections\", \"ids\", \"datetime\" and bounding box (\"bbox\") (see [here](https://pystac-client.readthedocs.io/en/stable/api.html#pystac_client.Client.search)). We saw how to use search the \"collections\" and \"ids\" field in the examples above.\n",
    "\n",
    "More complex query operations are supported via means of [STAC API extensions](https://stac-api-extensions.github.io), namely, the [Query](https://github.com/stac-api-extensions/query) and [Filter](https://github.com/stac-api-extensions/filter) extensions. Using the facilities provided by these extensions, you can search for items based on the values of their \"properties\". The STAC implementation on Marble includes the Query and Filter extentions and thereby provides you the ability to construct more complex search requests.\n",
    "\n",
    "#### Search using STAC API Query extension\n",
    "\n",
    "The \"query\" feature is used by structuring the search request as a (nested) dictionary and passing it to the `query` parameter of the same search function used above."
   ]
  },
  {
   "cell_type": "markdown",
   "id": "c0fd5e48-1600-4ad1-920b-d855287cbda7",
   "metadata": {},
   "source": [
    "(example_3)=\n",
    "**Example 3:** In this example, we reproduce the results from [Example 1](example_1), but this time by using the query feature."
   ]
  },
  {
   "cell_type": "code",
   "execution_count": 11,
   "id": "5abaa534-1fdb-4358-992d-3b46991cd284",
   "metadata": {},
   "outputs": [
    {
     "name": "stdout",
     "output_type": "stream",
     "text": [
      "Search returned 6831 items\n"
     ]
    }
   ],
   "source": [
    "search = catalog.search(\n",
    "    query={\"collection\": {\"eq\": \"CMIP6_UofT\"}},\n",
    ")\n",
    "\n",
    "print(f\"Search returned {len(search.item_collection())} items\")"
   ]
  },
  {
   "cell_type": "markdown",
   "id": "47dde78d-7f29-456c-8dd4-86f1652775a9",
   "metadata": {},
   "source": [
    "We see the number of items returned is identical to that which was found in [Example 1](example_1), as it should. Let's understand the data that we passed to the `query` paramter and what it means. The dictionary data for the search request was:\n",
    "\n",
    "```json\n",
    "{\"collection\": {\"eq\": \"CMIP6_UofT\"}}\n",
    "```\n",
    "\n",
    "This says \"apply the operation defined by the dictionary `{\"eq\": \"CMIP6_UofT\"}` to the `collection` field of the dataset\". The operation dictionary itself, specified as a name-value pair, means \"apply an equality operation, i.e. 'eq', where the equality tests that the value is CMIP6_UofT\".\n",
    "\n",
    "Now, let's find all items in the \"CMIP6_UofT\" again, but this time instead of checking the value of the \"collection\" field, let's check for the value of a propetry that only data in the \"CMIP6_UofT\" collection have:"
   ]
  },
  {
   "cell_type": "code",
   "execution_count": 12,
   "id": "0394d856-ce04-4a60-b41e-da33278d2eff",
   "metadata": {},
   "outputs": [
    {
     "name": "stdout",
     "output_type": "stream",
     "text": [
      "Search returned 6831 items\n"
     ]
    }
   ],
   "source": [
    "search = catalog.search(\n",
    "    # The property cmip6:mip_era is only present in the CMIP6_UofT collection, and all data in that collection\n",
    "    # have this property value set to CMIP6\n",
    "    query={\"cmip6:mip_era\": {\"eq\": \"CMIP6\"}},\n",
    ")\n",
    "\n",
    "print(f\"Search returned {len(search.item_collection())} items\")"
   ]
  },
  {
   "cell_type": "markdown",
   "id": "c159ee07-64d0-4f7e-8842-244dc73d951e",
   "metadata": {},
   "source": [
    "As we see, the result is the same, which is expected. However trivial the above example, it illustrates a simple operation on a property of the data that you want. We'll expand on this below."
   ]
  },
  {
   "cell_type": "markdown",
   "id": "94861641-3e9a-4707-a103-c8abf304830d",
   "metadata": {},
   "source": [
    "(example_4)=\n",
    "**Example 4:** Now, get all items in the CMIP6_UofT collection that are of variable type \"tas\" (surface temperature according to the CMIP6 controlled vocabulary)."
   ]
  },
  {
   "cell_type": "code",
   "execution_count": 13,
   "id": "f822f1a4-78ed-4f90-94f6-3ab865b9b83d",
   "metadata": {},
   "outputs": [
    {
     "name": "stdout",
     "output_type": "stream",
     "text": [
      "Search returned 571 items\n"
     ]
    }
   ],
   "source": [
    "search = catalog.search(\n",
    "    collections=[\"CMIP6_UofT\"],\n",
    "    query={\"cmip6:variable_id\": {\"eq\": \"tas\"}},\n",
    ")\n",
    "\n",
    "print(f\"Search returned {len(search.item_collection())} items\")"
   ]
  },
  {
   "cell_type": "markdown",
   "id": "c604b320-148e-4154-804e-b57044faba47",
   "metadata": {},
   "source": [
    "In this example, our search request, encoded as a dictionary object says \"find all items where the `cmip6:variable_id` field equals `tas`\". Note, the `collection` parameter is not strictly necessary in this case since the property `cmip6:variable_id` is only a property of data in the \"CMIP6_UofT\" collection. This property is unique, because it is defined by a STAC extension that is only applied to CMIP6 data.\n",
    "\n",
    "There are several other properties that apply to multiple (or even all) collections. For instance, fields like `datetime`, `start_datetime`, `end_datetime` apply to all collection, so if you want to query for data files that are within a specific collection within a specific time range, then you'd have to also specify the collection name, either in the `collection` parameter as shown above, or as an additional component of the query sent to the `query` parameter.\n",
    "\n",
    "In the next example, we see how to extend simple queries to include more that one operation."
   ]
  },
  {
   "cell_type": "markdown",
   "id": "9390636d-7e54-4cf2-a7b1-1a05fffe6234",
   "metadata": {},
   "source": [
    "(example_5)=\n",
    "**Example 5:** Extending our above query to add another query on the \"cmip6:institution_id\" property. Now our query is composed of two tests: the first test is on property \"cmip6:variable_id\", the second one on property \"cmip6:institution_id\", both tests check for equality with respoect to specific values."
   ]
  },
  {
   "cell_type": "code",
   "execution_count": 14,
   "id": "eab96ef5-528f-4211-b6df-154d57902802",
   "metadata": {},
   "outputs": [
    {
     "name": "stdout",
     "output_type": "stream",
     "text": [
      "Search returned 20 items\n"
     ]
    }
   ],
   "source": [
    "search = catalog.search(\n",
    "    collections=[\"CMIP6_UofT\"],\n",
    "    query={\"cmip6:variable_id\": {\"eq\": \"tas\"}, \"cmip6:institution_id\" : {\"eq\": \"UCSB\"}},\n",
    ")\n",
    "\n",
    "print(f\"Search returned {len(search.item_collection())} items\")"
   ]
  },
  {
   "cell_type": "markdown",
   "id": "c39bf7e5-83e3-4be7-993f-52a4a9506071",
   "metadata": {},
   "source": [
    "#### Using the STAC API Filter extension\n",
    "\n",
    "The STAC community appears to be moving in the direction of preferring the filter extension compared to the query extension. From the Query extension's main page:\n",
    "\n",
    ">It is recommended to implement the Filter Extension instead of the Query Extension. Filter Extension is more well-defined, more expressive, and uses the standardized CQL2 query language instead of the proprietary language defined here. There is no plan to deprecate this extension, but it is also unlikely to see any further refinement or changes.\n",
    "\n",
    "Therefore, in this section of the tutorial, we provide a brief introduction to the Filter extension. The examples will implement the same searches as in the previous section, but this time the searches will be performed using the Filter extension. This feature is exposed in the `search` function of the `Client` object using the `filter` parameter."
   ]
  },
  {
   "cell_type": "markdown",
   "id": "b8c73dc3-0bd3-430f-b599-5b0adf6a0040",
   "metadata": {},
   "source": [
    "(example_6)=\n",
    "**Example 6:** Implementing [Example 4](example_4) using the Filter extension."
   ]
  },
  {
   "cell_type": "code",
   "execution_count": 15,
   "id": "06b43f4d-4fb3-4907-ba5d-e9cd8166fd37",
   "metadata": {},
   "outputs": [
    {
     "name": "stdout",
     "output_type": "stream",
     "text": [
      "Search returned 571 items\n"
     ]
    }
   ],
   "source": [
    "search = catalog.search(\n",
    "    # collections=[\"CMIP6_UofT\"],\n",
    "    filter={\"op\": \"eq\", \"args\": [{\"property\": \"cmip6:variable_id\"}, \"tas\"]},\n",
    ")\n",
    "\n",
    "print(f\"Search returned {len(search.item_collection())} items\")"
   ]
  },
  {
   "cell_type": "markdown",
   "id": "2ad60d5b-5ec1-45b0-86f8-6d842dc537c3",
   "metadata": {
    "user_expressions": [
     {
      "expression": "len(search.item_collection())",
      "result": {
       "data": {
        "text/plain": "571"
       },
       "metadata": {},
       "status": "ok"
      }
     }
    ]
   },
   "source": [
    "Our search returned {eval}`len(search.item_collection())` items, which is the same number of items we found using the Query extension in [Example 4](example_4). Our search request, which is again structured as a dictionary object, is slightly different this time:\n",
    "\n",
    "```json\n",
    "{\n",
    "  \"op\": \"eq\",\n",
    "  \"args\": [\n",
    "    {\n",
    "      \"property\": \"cmip6:variable_id\"\n",
    "    },\n",
    "    \"tas\"\n",
    "  ]\n",
    "}\n",
    "```\n",
    "\n",
    "The first name-value pair (NV pair) in the object is `\"op\": \"eq\"` which means that the operation is a test of equality. The details of that operation itself, i.e. which property to test on and what value to test against, are specified as the second NV pair `\"args\": [...]`, whose key is appropriately named \"args\" to signify that it contains the arguments to the operation. "
   ]
  },
  {
   "cell_type": "markdown",
   "id": "81135e62-9734-4972-9e1b-d9305a952264",
   "metadata": {},
   "source": [
    "**Example 7:** Implementing [Example 5](example_5) using the Filter extension."
   ]
  },
  {
   "cell_type": "code",
   "execution_count": 16,
   "id": "15ba56a9-d0b6-4d75-ac95-88a4b8e9198c",
   "metadata": {},
   "outputs": [
    {
     "name": "stdout",
     "output_type": "stream",
     "text": [
      "Search returned 20 items\n"
     ]
    }
   ],
   "source": [
    "search = catalog.search(\n",
    "    collections=[\"CMIP6_UofT\"],\n",
    "    filter={\n",
    "    \"op\" : \"and\",\n",
    "    \"args\": [\n",
    "      {\n",
    "        \"op\": \"eq\",\n",
    "        \"args\": [ { \"property\": \"cmip6:variable_id\" }, \"tas\" ]\n",
    "      },\n",
    "      {\n",
    "        \"op\": \"eq\",\n",
    "        \"args\" : [ { \"property\": \"cmip6:institution_id\" }, \"UCSB\" ]\n",
    "      }\n",
    "    ]\n",
    "  },\n",
    ")\n",
    "\n",
    "print(f\"Search returned {len(search.item_collection())} items\")"
   ]
  },
  {
   "cell_type": "markdown",
   "id": "7d68375e-7c91-444a-9ae1-b72f4ba4ab16",
   "metadata": {
    "user_expressions": [
     {
      "expression": "len(search.item_collection())",
      "result": {
       "data": {
        "text/plain": "571"
       },
       "metadata": {},
       "status": "ok"
      }
     }
    ]
   },
   "source": [
    "The search returned {eval}`len(search.item_collection())` items, which is the same number that weas obtained using the Query extension in [Example 5](example_5).\n",
    "\n",
    "The structure of the request this time is more complex:\n",
    "\n",
    "```json\n",
    "{\n",
    "  \"op\": \"and\",\n",
    "  \"args\": [\n",
    "    {\n",
    "      \"op\": \"eq\",\n",
    "      \"args\": [\n",
    "        {\n",
    "          \"property\": \"cmip6:variable_id\"\n",
    "        },\n",
    "        \"tas\"\n",
    "      ]\n",
    "    },\n",
    "    {\n",
    "      \"op\": \"eq\",\n",
    "      \"args\": [\n",
    "        {\n",
    "          \"property\": \"cmip6:institution_id\"\n",
    "        },\n",
    "        \"UCSB\"\n",
    "      ]\n",
    "    }\n",
    "  ]\n",
    "}\n",
    "```"
   ]
  },
  {
   "cell_type": "markdown",
   "id": "e2215518-1065-43b5-bed1-704e5e928022",
   "metadata": {},
   "source": [
    "(ret_info)=\n",
    "## Retrieving information from search results"
   ]
  },
  {
   "cell_type": "markdown",
   "id": "b701e5ee-ff58-4b13-8054-f14db964092b",
   "metadata": {},
   "source": [
    "So far we've focused on performing searches and understanding how many search results are returned. We haven't yet looked at how we get information about the matched datasets, including but not limited to information on how to access them. This is what we focus on in this section.\n",
    "\n",
    "First, let's perform a sample search that we are going to use for the discussion in this section. The sample search is just [Example 4](example_4):"
   ]
  },
  {
   "cell_type": "code",
   "execution_count": 17,
   "id": "9d44c4b7-9382-4ff0-aa52-0b942dae3b2d",
   "metadata": {},
   "outputs": [
    {
     "name": "stdout",
     "output_type": "stream",
     "text": [
      "Search returned 571 items\n"
     ]
    }
   ],
   "source": [
    "search = catalog.search(\n",
    "    collections=[\"CMIP6_UofT\"],\n",
    "    query={\"cmip6:variable_id\": {\"eq\": \"tas\"}},\n",
    ")\n",
    "\n",
    "print(f\"Search returned {len(search.item_collection())} items\")"
   ]
  },
  {
   "cell_type": "markdown",
   "id": "325b64ad-5a15-410c-9e0d-a0e7d582df20",
   "metadata": {},
   "source": [
    "You can access all items in the search result using the `item_collection()` method of the `pystac_client.item_search.ItemSearch` object (which for us, is `search`)"
   ]
  },
  {
   "cell_type": "code",
   "execution_count": 18,
   "id": "c13fdc3e-d432-4626-850b-de360b4a3a6a",
   "metadata": {},
   "outputs": [
    {
     "name": "stdout",
     "output_type": "stream",
     "text": [
      "Listing the first 10 items of a total 571 returned by the search:\n",
      "<Item id=CMIP_EC-Earth-Consortium_EC-Earth3_historical_r150i1p1f1_Amon_tas_gr>\n",
      "<Item id=CMIP_EC-Earth-Consortium_EC-Earth3_historical_r149i1p1f1_Amon_tas_gr>\n",
      "<Item id=CMIP_EC-Earth-Consortium_EC-Earth3_historical_r148i1p1f1_Amon_tas_gr>\n",
      "<Item id=CMIP_EC-Earth-Consortium_EC-Earth3_historical_r147i1p1f1_Amon_tas_gr>\n",
      "<Item id=CMIP_EC-Earth-Consortium_EC-Earth3_historical_r146i1p1f1_Amon_tas_gr>\n",
      "<Item id=CMIP_EC-Earth-Consortium_EC-Earth3_historical_r145i1p1f1_Amon_tas_gr>\n",
      "<Item id=CMIP_EC-Earth-Consortium_EC-Earth3_historical_r144i1p1f1_Amon_tas_gr>\n",
      "<Item id=CMIP_EC-Earth-Consortium_EC-Earth3_historical_r143i1p1f1_Amon_tas_gr>\n",
      "<Item id=CMIP_EC-Earth-Consortium_EC-Earth3_historical_r142i1p1f1_Amon_tas_gr>\n",
      "<Item id=CMIP_EC-Earth-Consortium_EC-Earth3_historical_r141i1p1f1_Amon_tas_gr>\n"
     ]
    }
   ],
   "source": [
    "limit = 10 # will limit printing to just 10 items\n",
    "print(f\"Listing the first {limit} items of a total {len(search.item_collection())} returned by the search:\")\n",
    "print(*search.item_collection()[:limit], sep=\"\\n\")"
   ]
  },
  {
   "cell_type": "markdown",
   "id": "50563ad4-68b5-43a5-887e-9c87f4a611ef",
   "metadata": {},
   "source": [
    "Let's get one item from the list of all items for further exploration."
   ]
  },
  {
   "cell_type": "code",
   "execution_count": 19,
   "id": "c1c1a658-fe84-4a8e-8aa3-b96ade7f6c63",
   "metadata": {},
   "outputs": [
    {
     "name": "stdout",
     "output_type": "stream",
     "text": [
      "<class 'pystac.item.Item'>\n"
     ]
    }
   ],
   "source": [
    "item = search.item_collection()[0]\n",
    "print(type(item))"
   ]
  },
  {
   "cell_type": "markdown",
   "id": "a7205911-7909-4916-bacd-bbee73752de4",
   "metadata": {
    "user_expressions": [
     {
      "expression": "type(item)",
      "result": {
       "data": {
        "text/plain": "pystac.item.Item"
       },
       "metadata": {},
       "status": "ok"
      }
     }
    ]
   },
   "source": [
    "The object \"item\", which represents the first search item, is an object of type [{eval}`type(item)`](https://pystac.readthedocs.io/en/latest/api/item.html). We can get several types of information about this item using operations supported by `pystac`, as shown below:"
   ]
  },
  {
   "cell_type": "markdown",
   "id": "3231e190-adbc-4be0-b8a4-3ffedc262df7",
   "metadata": {},
   "source": [
    "You can get the item's ID:"
   ]
  },
  {
   "cell_type": "code",
   "execution_count": 20,
   "id": "11e7d502-5aa7-4a55-a755-dc015ef3c229",
   "metadata": {},
   "outputs": [
    {
     "data": {
      "text/plain": [
       "'CMIP_EC-Earth-Consortium_EC-Earth3_historical_r150i1p1f1_Amon_tas_gr'"
      ]
     },
     "execution_count": 20,
     "metadata": {},
     "output_type": "execute_result"
    }
   ],
   "source": [
    "item.id"
   ]
  },
  {
   "cell_type": "markdown",
   "id": "137b67cb-393f-49f5-9268-beaf0dd41b13",
   "metadata": {},
   "source": [
    "If the object has a `datetime` value, then you can get that:"
   ]
  },
  {
   "cell_type": "code",
   "execution_count": 21,
   "id": "613bd046-2615-444d-b5d6-c9feff8ac497",
   "metadata": {},
   "outputs": [],
   "source": [
    "item.datetime"
   ]
  },
  {
   "cell_type": "markdown",
   "id": "7e62d1c0-0402-4dd2-b0ec-28847871c6ef",
   "metadata": {},
   "source": [
    "In this case, there is no output because there is no \"datetime\" value associated with the item. That is because there is no single \"datetime\" associated with CMIP6 data, instead it has a \"start_datetime\" and \"end_datetime\". We can access those values as keys of the \"properties\" of the item:"
   ]
  },
  {
   "cell_type": "code",
   "execution_count": 22,
   "id": "41b3902d-cf2f-4c9d-a4cb-610686015f67",
   "metadata": {},
   "outputs": [
    {
     "data": {
      "text/plain": [
       "('1970-01-16T12:00:00Z', '2014-12-16T12:00:00Z')"
      ]
     },
     "execution_count": 22,
     "metadata": {},
     "output_type": "execute_result"
    }
   ],
   "source": [
    "item.properties['start_datetime'], item.properties['end_datetime']"
   ]
  },
  {
   "cell_type": "markdown",
   "id": "34f01402-c0c9-4057-83c2-c264eb0a0195",
   "metadata": {},
   "source": [
    "The item's geometry and bounding box can be accessed as follows:"
   ]
  },
  {
   "cell_type": "code",
   "execution_count": 23,
   "id": "acefe839-6283-4bdf-9cb6-1dd86e80390c",
   "metadata": {},
   "outputs": [
    {
     "data": {
      "text/plain": [
       "{'type': 'Polygon',\n",
       " 'coordinates': [[[0, -89.46282196044922],\n",
       "   [0, 89.46282196044922],\n",
       "   [359.296875, 89.46282196044922],\n",
       "   [359.296875, -89.46282196044922],\n",
       "   [0, -89.46282196044922]]]}"
      ]
     },
     "execution_count": 23,
     "metadata": {},
     "output_type": "execute_result"
    }
   ],
   "source": [
    "item.geometry"
   ]
  },
  {
   "cell_type": "code",
   "execution_count": 24,
   "id": "b50408a5-ce7e-49fd-9164-f7a1f9550b02",
   "metadata": {},
   "outputs": [
    {
     "data": {
      "text/plain": [
       "[0.0, -89.46282196044922, 359.296875, 89.46282196044922]"
      ]
     },
     "execution_count": 24,
     "metadata": {},
     "output_type": "execute_result"
    }
   ],
   "source": [
    "item.bbox"
   ]
  },
  {
   "cell_type": "markdown",
   "id": "c35194b2-c759-49d0-9d1a-3c85640519b1",
   "metadata": {},
   "source": [
    "A list containing JSON Schemas for the STAC extensions that the object provides can be accessed as:"
   ]
  },
  {
   "cell_type": "code",
   "execution_count": 25,
   "id": "e319112d-6a38-46f7-bfcb-748b111b63c7",
   "metadata": {},
   "outputs": [
    {
     "data": {
      "text/plain": [
       "['https://raw.githubusercontent.com/TomAugspurger/cmip6/main/json-schema/schema.json',\n",
       " 'https://stac-extensions.github.io/datacube/v2.2.0/schema.json']"
      ]
     },
     "execution_count": 25,
     "metadata": {},
     "output_type": "execute_result"
    }
   ],
   "source": [
    "item.stac_extensions"
   ]
  },
  {
   "cell_type": "markdown",
   "id": "2d737c2a-3c11-44eb-8a61-aef5dae81d77",
   "metadata": {},
   "source": [
    "Various links related to the item can be accessed as:"
   ]
  },
  {
   "cell_type": "code",
   "execution_count": 26,
   "id": "84cee8ca-8c03-4e54-8975-cefe37851a38",
   "metadata": {},
   "outputs": [
    {
     "data": {
      "text/plain": [
       "[<Link rel=collection target=https://daccs.cs.toronto.edu/stac/collections/CMIP6_UofT>,\n",
       " <Link rel=parent target=https://daccs.cs.toronto.edu/stac/collections/CMIP6_UofT>,\n",
       " <Link rel=root target=<Client id=stac-fastapi>>,\n",
       " <Link rel=self target=https://daccs.cs.toronto.edu/stac/collections/CMIP6_UofT/items/CMIP_EC-Earth-Consortium_EC-Earth3_historical_r150i1p1f1_Amon_tas_gr>,\n",
       " <Link rel=source target=https://daccs.cs.toronto.edu/twitcher/ows/proxy/thredds/fileServer/datasets/CMIP6/CMIP/EC-Earth-Consortium/EC-Earth3/historical/r150i1p1f1/Amon/tas/gr/v20200412/tas_Amon_EC-Earth3_historical_r150i1p1f1_gr_197001-201412.nc>]"
      ]
     },
     "execution_count": 26,
     "metadata": {},
     "output_type": "execute_result"
    }
   ],
   "source": [
    "item.links"
   ]
  },
  {
   "cell_type": "markdown",
   "id": "a058c496-8012-4b88-9015-d1e7b76d99c0",
   "metadata": {},
   "source": [
    "The \"properties\" of the item can be accessed as shown below. This returns a dictionary, where the keys are various property names. "
   ]
  },
  {
   "cell_type": "code",
   "execution_count": 27,
   "id": "b5b2b1d7-d581-4759-85e9-4b9eecb53ea1",
   "metadata": {},
   "outputs": [
    {
     "data": {
      "text/plain": [
       "{'cmip6:grid': 'T255L91-ORCA1L75',\n",
       " 'cmip6:realm': ['atmos'],\n",
       " 'cmip6:source': 'EC-Earth3 (2019): \\naerosol: none\\natmos: IFS cy36r4 (TL255, linearly reduced Gaussian grid equivalent to 512 x 256 longitude/latitude; 91 levels; top level 0.01 hPa)\\natmosChem: none\\nland: HTESSEL (land surface scheme built in IFS)\\nlandIce: none\\nocean: NEMO3.6 (ORCA1 tripolar primarily 1 deg with meridional refinement down to 1/3 degree in the tropics; 362 x 292 longitude/latitude; 75 levels; top grid cell 0-1 m)\\nocnBgchem: none\\nseaIce: LIM3',\n",
       " 'end_datetime': '2014-12-16T12:00:00Z',\n",
       " 'cmip6:license': 'CMIP6 model data produced by EC-Earth-Consortium is licensed under a Creative Commons Attribution-ShareAlike 4.0 International License (https://creativecommons.org/licenses). Consult https://pcmdi.llnl.gov/CMIP6/TermsOfUse for terms of use governing CMIP6 output, including citation requirements and proper acknowledgment. Further information about this data, including some limitations, can be found via the further_info_url (recorded as a global attribute in this file) and at http://www.ec-earth.org. The data producers and data providers make no warranty, either express or implied, including, but not limited to, warranties of merchantability and fitness for a particular purpose. All liabilities arising from the supply of the information (including any liability arising in negligence) are excluded to the fullest extent permitted by law.',\n",
       " 'cmip6:mip_era': 'CMIP6',\n",
       " 'cmip6:product': 'model-output',\n",
       " 'cmip6:version': '',\n",
       " 'cmip6:table_id': 'Amon',\n",
       " 'cube:variables': {'tas': {'type': 'data',\n",
       "   'unit': 'K',\n",
       "   'dimensions': ['time', 'lat', 'lon'],\n",
       "   'description': 'Near-Surface Air Temperature'},\n",
       "  'height': {'type': 'auxiliary',\n",
       "   'unit': 'm',\n",
       "   'dimensions': [''],\n",
       "   'description': 'height'},\n",
       "  'lat_bnds': {'type': 'data',\n",
       "   'unit': '',\n",
       "   'dimensions': ['lat', 'bnds'],\n",
       "   'description': ''},\n",
       "  'lon_bnds': {'type': 'data',\n",
       "   'unit': '',\n",
       "   'dimensions': ['lon', 'bnds'],\n",
       "   'description': ''},\n",
       "  'time_bnds': {'type': 'data',\n",
       "   'unit': '',\n",
       "   'dimensions': ['time', 'bnds'],\n",
       "   'description': ''}},\n",
       " 'start_datetime': '1970-01-16T12:00:00Z',\n",
       " 'cmip6:frequency': 'mon',\n",
       " 'cmip6:source_id': 'EC-Earth3',\n",
       " 'cube:dimensions': {'lat': {'axis': 'y',\n",
       "   'type': 'spatial',\n",
       "   'extent': [-89.46282196044922, 89.46282196044922],\n",
       "   'description': 'projection_y_coordinate'},\n",
       "  'lon': {'axis': 'x',\n",
       "   'type': 'spatial',\n",
       "   'extent': [0.0, 359.296875],\n",
       "   'description': 'projection_x_coordinate'},\n",
       "  'time': {'type': 'temporal',\n",
       "   'extent': ['1970-01-16T12:00:00Z', '2014-12-16T12:00:00Z'],\n",
       "   'description': 'time'}},\n",
       " 'cmip6:experiment': 'all-forcing simulation of the recent past',\n",
       " 'cmip6:grid_label': 'gr',\n",
       " 'cmip6:Conventions': 'CF-1.7 CMIP-6.2',\n",
       " 'cmip6:activity_id': 'CMIP',\n",
       " 'cmip6:institution': 'AEMET, Spain; BSC, Spain; CNR-ISAC, Italy; DMI, Denmark; ENEA, Italy; FMI, Finland; Geomar, Germany; ICHEC, Ireland; ICTP, Italy; IDL, Portugal; IMAU, The Netherlands; IPMA, Portugal; KIT, Karlsruhe, Germany; KNMI, The Netherlands; Lund University, Sweden; Met Eireann, Ireland; NLeSC, The Netherlands; NTNU, Norway; Oxford University, UK; surfSARA, The Netherlands; SMHI, Sweden; Stockholm University, Sweden; Unite ASTR, Belgium; University College Dublin, Ireland; University of Bergen, Norway; University of Copenhagen, Denmark; University of Helsinki, Finland; University of Santiago de Compostela, Spain; Uppsala University, Sweden; Utrecht University, The Netherlands; Vrije Universiteit Amsterdam, the Netherlands; Wageningen University, The Netherlands. Mailing address: EC-Earth consortium, Rossby Center, Swedish Meteorological and Hydrological Institute/SMHI, SE-601 76 Norrkoping, Sweden',\n",
       " 'cmip6:source_type': ['AOGCM'],\n",
       " 'cmip6:tracking_id': '',\n",
       " 'cmip6:variable_id': 'tas',\n",
       " 'cmip6:creation_date': '2019-07-06T22:29:19Z',\n",
       " 'cmip6:experiment_id': 'historical',\n",
       " 'cmip6:forcing_index': 1,\n",
       " 'cmip6:physics_index': 1,\n",
       " 'cmip6:variant_label': 'r150i1p1f1',\n",
       " 'cmip6:institution_id': 'EC-Earth-Consortium',\n",
       " 'cmip6:sub_experiment': 'none',\n",
       " 'cmip6:further_info_url': 'https://furtherinfo.es-doc.org/CMIP6.EC-Earth-Consortium.EC-Earth3.historical.none.r150i1p1f1',\n",
       " 'cmip6:realization_index': 150,\n",
       " 'cmip6:sub_experiment_id': 'none',\n",
       " 'cmip6:data_specs_version': '01.00.30',\n",
       " 'cmip6:nominal_resolution': '100 km',\n",
       " 'cmip6:initialization_index': 1}"
      ]
     },
     "execution_count": 27,
     "metadata": {},
     "output_type": "execute_result"
    }
   ],
   "source": [
    "item.properties"
   ]
  },
  {
   "cell_type": "markdown",
   "id": "f5b050c5-efe2-4739-a190-883d34d2d326",
   "metadata": {},
   "source": [
    "Finally, the assets, which provide various access routes, can be accessed as shown below. This returns a dictionary with keys representing the access mode available for that data."
   ]
  },
  {
   "cell_type": "code",
   "execution_count": 28,
   "id": "d84935e7-a8c7-4568-a0fd-09119eef6c37",
   "metadata": {},
   "outputs": [
    {
     "data": {
      "text/plain": [
       "{'ISO': <Asset href=https://daccs.cs.toronto.edu/twitcher/ows/proxy/thredds/iso/datasets/CMIP6/CMIP/EC-Earth-Consortium/EC-Earth3/historical/r150i1p1f1/Amon/tas/gr/v20200412/tas_Amon_EC-Earth3_historical_r150i1p1f1_gr_197001-201412.nc>,\n",
       " 'WCS': <Asset href=https://daccs.cs.toronto.edu/twitcher/ows/proxy/thredds/wcs/datasets/CMIP6/CMIP/EC-Earth-Consortium/EC-Earth3/historical/r150i1p1f1/Amon/tas/gr/v20200412/tas_Amon_EC-Earth3_historical_r150i1p1f1_gr_197001-201412.nc>,\n",
       " 'WMS': <Asset href=https://daccs.cs.toronto.edu/twitcher/ows/proxy/thredds/wms/datasets/CMIP6/CMIP/EC-Earth-Consortium/EC-Earth3/historical/r150i1p1f1/Amon/tas/gr/v20200412/tas_Amon_EC-Earth3_historical_r150i1p1f1_gr_197001-201412.nc>,\n",
       " 'NcML': <Asset href=https://daccs.cs.toronto.edu/twitcher/ows/proxy/thredds/ncml/datasets/CMIP6/CMIP/EC-Earth-Consortium/EC-Earth3/historical/r150i1p1f1/Amon/tas/gr/v20200412/tas_Amon_EC-Earth3_historical_r150i1p1f1_gr_197001-201412.nc>,\n",
       " 'UDDC': <Asset href=https://daccs.cs.toronto.edu/twitcher/ows/proxy/thredds/uddc/datasets/CMIP6/CMIP/EC-Earth-Consortium/EC-Earth3/historical/r150i1p1f1/Amon/tas/gr/v20200412/tas_Amon_EC-Earth3_historical_r150i1p1f1_gr_197001-201412.nc>,\n",
       " 'OpenDAP': <Asset href=https://daccs.cs.toronto.edu/twitcher/ows/proxy/thredds/dodsC/datasets/CMIP6/CMIP/EC-Earth-Consortium/EC-Earth3/historical/r150i1p1f1/Amon/tas/gr/v20200412/tas_Amon_EC-Earth3_historical_r150i1p1f1_gr_197001-201412.nc>,\n",
       " 'HTTPServer': <Asset href=https://daccs.cs.toronto.edu/twitcher/ows/proxy/thredds/fileServer/datasets/CMIP6/CMIP/EC-Earth-Consortium/EC-Earth3/historical/r150i1p1f1/Amon/tas/gr/v20200412/tas_Amon_EC-Earth3_historical_r150i1p1f1_gr_197001-201412.nc>,\n",
       " 'NetcdfSubset': <Asset href=https://daccs.cs.toronto.edu/twitcher/ows/proxy/thredds/ncss/datasets/CMIP6/CMIP/EC-Earth-Consortium/EC-Earth3/historical/r150i1p1f1/Amon/tas/gr/v20200412/tas_Amon_EC-Earth3_historical_r150i1p1f1_gr_197001-201412.nc>}"
      ]
     },
     "execution_count": 28,
     "metadata": {},
     "output_type": "execute_result"
    }
   ],
   "source": [
    "item.assets"
   ]
  },
  {
   "cell_type": "markdown",
   "id": "ef4d2f28-f593-4b1c-8a18-2c4ec68e81ae",
   "metadata": {},
   "source": [
    "Let's say you want to open the data remotely via the \"OpenDAP\" protocol, and you want the URL for that. You can get that by:"
   ]
  },
  {
   "cell_type": "code",
   "execution_count": 29,
   "id": "515ca480-0ebd-4c11-9383-5892e6883e21",
   "metadata": {},
   "outputs": [
    {
     "data": {
      "text/plain": [
       "'https://daccs.cs.toronto.edu/twitcher/ows/proxy/thredds/dodsC/datasets/CMIP6/CMIP/EC-Earth-Consortium/EC-Earth3/historical/r150i1p1f1/Amon/tas/gr/v20200412/tas_Amon_EC-Earth3_historical_r150i1p1f1_gr_197001-201412.nc'"
      ]
     },
     "execution_count": 29,
     "metadata": {},
     "output_type": "execute_result"
    }
   ],
   "source": [
    "item.assets['OpenDAP'].href"
   ]
  },
  {
   "cell_type": "markdown",
   "id": "db68967c-db79-4f29-9be2-2c4ca7bdb08c",
   "metadata": {},
   "source": [
    "Similarly, if you wanted to download the data to your local device, you want to use the \"HTTPServer\" protocol, so you'd do:"
   ]
  },
  {
   "cell_type": "code",
   "execution_count": 30,
   "id": "3d218ef1-d7fd-4ff9-87a6-f43b32d0ffb2",
   "metadata": {},
   "outputs": [
    {
     "data": {
      "text/plain": [
       "'https://daccs.cs.toronto.edu/twitcher/ows/proxy/thredds/fileServer/datasets/CMIP6/CMIP/EC-Earth-Consortium/EC-Earth3/historical/r150i1p1f1/Amon/tas/gr/v20200412/tas_Amon_EC-Earth3_historical_r150i1p1f1_gr_197001-201412.nc'"
      ]
     },
     "execution_count": 30,
     "metadata": {},
     "output_type": "execute_result"
    }
   ],
   "source": [
    "item.assets['HTTPServer'].href"
   ]
  },
  {
   "cell_type": "markdown",
   "id": "7a630c22-f1a4-43a3-ab71-c05b44d0cc0b",
   "metadata": {},
   "source": [
    "The above few lines of code show how to access information about a STAC item (here, in our object named \"item\") using the abstractions provided by the [`pystac.item.Item`](https://pystac.readthedocs.io/en/latest/api/item.html) class. If you wanted to just inspect the raw JSON representation of the STAC object you could do:"
   ]
  },
  {
   "cell_type": "code",
   "execution_count": 31,
   "id": "70100331-8f73-4972-a3c2-a637cb49a5bb",
   "metadata": {},
   "outputs": [
    {
     "data": {
      "text/plain": [
       "{'type': 'Feature',\n",
       " 'stac_version': '1.0.0',\n",
       " 'id': 'CMIP_EC-Earth-Consortium_EC-Earth3_historical_r150i1p1f1_Amon_tas_gr',\n",
       " 'properties': {'cmip6:grid': 'T255L91-ORCA1L75',\n",
       "  'cmip6:realm': ['atmos'],\n",
       "  'cmip6:source': 'EC-Earth3 (2019): \\naerosol: none\\natmos: IFS cy36r4 (TL255, linearly reduced Gaussian grid equivalent to 512 x 256 longitude/latitude; 91 levels; top level 0.01 hPa)\\natmosChem: none\\nland: HTESSEL (land surface scheme built in IFS)\\nlandIce: none\\nocean: NEMO3.6 (ORCA1 tripolar primarily 1 deg with meridional refinement down to 1/3 degree in the tropics; 362 x 292 longitude/latitude; 75 levels; top grid cell 0-1 m)\\nocnBgchem: none\\nseaIce: LIM3',\n",
       "  'end_datetime': '2014-12-16T12:00:00Z',\n",
       "  'cmip6:license': 'CMIP6 model data produced by EC-Earth-Consortium is licensed under a Creative Commons Attribution-ShareAlike 4.0 International License (https://creativecommons.org/licenses). Consult https://pcmdi.llnl.gov/CMIP6/TermsOfUse for terms of use governing CMIP6 output, including citation requirements and proper acknowledgment. Further information about this data, including some limitations, can be found via the further_info_url (recorded as a global attribute in this file) and at http://www.ec-earth.org. The data producers and data providers make no warranty, either express or implied, including, but not limited to, warranties of merchantability and fitness for a particular purpose. All liabilities arising from the supply of the information (including any liability arising in negligence) are excluded to the fullest extent permitted by law.',\n",
       "  'cmip6:mip_era': 'CMIP6',\n",
       "  'cmip6:product': 'model-output',\n",
       "  'cmip6:version': '',\n",
       "  'cmip6:table_id': 'Amon',\n",
       "  'cube:variables': {'tas': {'type': 'data',\n",
       "    'unit': 'K',\n",
       "    'dimensions': ['time', 'lat', 'lon'],\n",
       "    'description': 'Near-Surface Air Temperature'},\n",
       "   'height': {'type': 'auxiliary',\n",
       "    'unit': 'm',\n",
       "    'dimensions': [''],\n",
       "    'description': 'height'},\n",
       "   'lat_bnds': {'type': 'data',\n",
       "    'unit': '',\n",
       "    'dimensions': ['lat', 'bnds'],\n",
       "    'description': ''},\n",
       "   'lon_bnds': {'type': 'data',\n",
       "    'unit': '',\n",
       "    'dimensions': ['lon', 'bnds'],\n",
       "    'description': ''},\n",
       "   'time_bnds': {'type': 'data',\n",
       "    'unit': '',\n",
       "    'dimensions': ['time', 'bnds'],\n",
       "    'description': ''}},\n",
       "  'start_datetime': '1970-01-16T12:00:00Z',\n",
       "  'cmip6:frequency': 'mon',\n",
       "  'cmip6:source_id': 'EC-Earth3',\n",
       "  'cube:dimensions': {'lat': {'axis': 'y',\n",
       "    'type': 'spatial',\n",
       "    'extent': [-89.46282196044922, 89.46282196044922],\n",
       "    'description': 'projection_y_coordinate'},\n",
       "   'lon': {'axis': 'x',\n",
       "    'type': 'spatial',\n",
       "    'extent': [0.0, 359.296875],\n",
       "    'description': 'projection_x_coordinate'},\n",
       "   'time': {'type': 'temporal',\n",
       "    'extent': ['1970-01-16T12:00:00Z', '2014-12-16T12:00:00Z'],\n",
       "    'description': 'time'}},\n",
       "  'cmip6:experiment': 'all-forcing simulation of the recent past',\n",
       "  'cmip6:grid_label': 'gr',\n",
       "  'cmip6:Conventions': 'CF-1.7 CMIP-6.2',\n",
       "  'cmip6:activity_id': 'CMIP',\n",
       "  'cmip6:institution': 'AEMET, Spain; BSC, Spain; CNR-ISAC, Italy; DMI, Denmark; ENEA, Italy; FMI, Finland; Geomar, Germany; ICHEC, Ireland; ICTP, Italy; IDL, Portugal; IMAU, The Netherlands; IPMA, Portugal; KIT, Karlsruhe, Germany; KNMI, The Netherlands; Lund University, Sweden; Met Eireann, Ireland; NLeSC, The Netherlands; NTNU, Norway; Oxford University, UK; surfSARA, The Netherlands; SMHI, Sweden; Stockholm University, Sweden; Unite ASTR, Belgium; University College Dublin, Ireland; University of Bergen, Norway; University of Copenhagen, Denmark; University of Helsinki, Finland; University of Santiago de Compostela, Spain; Uppsala University, Sweden; Utrecht University, The Netherlands; Vrije Universiteit Amsterdam, the Netherlands; Wageningen University, The Netherlands. Mailing address: EC-Earth consortium, Rossby Center, Swedish Meteorological and Hydrological Institute/SMHI, SE-601 76 Norrkoping, Sweden',\n",
       "  'cmip6:source_type': ['AOGCM'],\n",
       "  'cmip6:tracking_id': '',\n",
       "  'cmip6:variable_id': 'tas',\n",
       "  'cmip6:creation_date': '2019-07-06T22:29:19Z',\n",
       "  'cmip6:experiment_id': 'historical',\n",
       "  'cmip6:forcing_index': 1,\n",
       "  'cmip6:physics_index': 1,\n",
       "  'cmip6:variant_label': 'r150i1p1f1',\n",
       "  'cmip6:institution_id': 'EC-Earth-Consortium',\n",
       "  'cmip6:sub_experiment': 'none',\n",
       "  'cmip6:further_info_url': 'https://furtherinfo.es-doc.org/CMIP6.EC-Earth-Consortium.EC-Earth3.historical.none.r150i1p1f1',\n",
       "  'cmip6:realization_index': 150,\n",
       "  'cmip6:sub_experiment_id': 'none',\n",
       "  'cmip6:data_specs_version': '01.00.30',\n",
       "  'cmip6:nominal_resolution': '100 km',\n",
       "  'cmip6:initialization_index': 1,\n",
       "  'datetime': None},\n",
       " 'geometry': {'type': 'Polygon',\n",
       "  'coordinates': [[[0, -89.46282196044922],\n",
       "    [0, 89.46282196044922],\n",
       "    [359.296875, 89.46282196044922],\n",
       "    [359.296875, -89.46282196044922],\n",
       "    [0, -89.46282196044922]]]},\n",
       " 'links': [{'rel': 'collection',\n",
       "   'href': 'https://daccs.cs.toronto.edu/stac/collections/CMIP6_UofT',\n",
       "   'type': 'application/json'},\n",
       "  {'rel': 'parent',\n",
       "   'href': 'https://daccs.cs.toronto.edu/stac/collections/CMIP6_UofT',\n",
       "   'type': 'application/json'},\n",
       "  {'rel': <RelType.ROOT: 'root'>,\n",
       "   'href': 'http://daccs.cs.toronto.edu/stac',\n",
       "   'type': <MediaType.JSON: 'application/json'>,\n",
       "   'title': 'Data Analytics for Canadian Climate Services STAC API'},\n",
       "  {'rel': 'self',\n",
       "   'href': 'https://daccs.cs.toronto.edu/stac/collections/CMIP6_UofT/items/CMIP_EC-Earth-Consortium_EC-Earth3_historical_r150i1p1f1_Amon_tas_gr',\n",
       "   'type': 'application/geo+json'},\n",
       "  {'rel': 'source',\n",
       "   'href': 'https://daccs.cs.toronto.edu/twitcher/ows/proxy/thredds/fileServer/datasets/CMIP6/CMIP/EC-Earth-Consortium/EC-Earth3/historical/r150i1p1f1/Amon/tas/gr/v20200412/tas_Amon_EC-Earth3_historical_r150i1p1f1_gr_197001-201412.nc',\n",
       "   'type': 'application/x-netcdf',\n",
       "   'title': 'datasets/CMIP6/CMIP/EC-Earth-Consortium/EC-Earth3/historical/r150i1p1f1/Amon/tas/gr/v20200412/tas_Amon_EC-Earth3_historical_r150i1p1f1_gr_197001-201412.nc'}],\n",
       " 'assets': {'ISO': {'href': 'https://daccs.cs.toronto.edu/twitcher/ows/proxy/thredds/iso/datasets/CMIP6/CMIP/EC-Earth-Consortium/EC-Earth3/historical/r150i1p1f1/Amon/tas/gr/v20200412/tas_Amon_EC-Earth3_historical_r150i1p1f1_gr_197001-201412.nc',\n",
       "   'type': '',\n",
       "   'roles': []},\n",
       "  'WCS': {'href': 'https://daccs.cs.toronto.edu/twitcher/ows/proxy/thredds/wcs/datasets/CMIP6/CMIP/EC-Earth-Consortium/EC-Earth3/historical/r150i1p1f1/Amon/tas/gr/v20200412/tas_Amon_EC-Earth3_historical_r150i1p1f1_gr_197001-201412.nc',\n",
       "   'type': 'application/xml',\n",
       "   'roles': ['data']},\n",
       "  'WMS': {'href': 'https://daccs.cs.toronto.edu/twitcher/ows/proxy/thredds/wms/datasets/CMIP6/CMIP/EC-Earth-Consortium/EC-Earth3/historical/r150i1p1f1/Amon/tas/gr/v20200412/tas_Amon_EC-Earth3_historical_r150i1p1f1_gr_197001-201412.nc',\n",
       "   'type': 'application/xml',\n",
       "   'roles': ['visual']},\n",
       "  'NcML': {'href': 'https://daccs.cs.toronto.edu/twitcher/ows/proxy/thredds/ncml/datasets/CMIP6/CMIP/EC-Earth-Consortium/EC-Earth3/historical/r150i1p1f1/Amon/tas/gr/v20200412/tas_Amon_EC-Earth3_historical_r150i1p1f1_gr_197001-201412.nc',\n",
       "   'type': '',\n",
       "   'roles': []},\n",
       "  'UDDC': {'href': 'https://daccs.cs.toronto.edu/twitcher/ows/proxy/thredds/uddc/datasets/CMIP6/CMIP/EC-Earth-Consortium/EC-Earth3/historical/r150i1p1f1/Amon/tas/gr/v20200412/tas_Amon_EC-Earth3_historical_r150i1p1f1_gr_197001-201412.nc',\n",
       "   'type': '',\n",
       "   'roles': []},\n",
       "  'OpenDAP': {'href': 'https://daccs.cs.toronto.edu/twitcher/ows/proxy/thredds/dodsC/datasets/CMIP6/CMIP/EC-Earth-Consortium/EC-Earth3/historical/r150i1p1f1/Amon/tas/gr/v20200412/tas_Amon_EC-Earth3_historical_r150i1p1f1_gr_197001-201412.nc',\n",
       "   'type': 'text/html',\n",
       "   'roles': ['data']},\n",
       "  'HTTPServer': {'href': 'https://daccs.cs.toronto.edu/twitcher/ows/proxy/thredds/fileServer/datasets/CMIP6/CMIP/EC-Earth-Consortium/EC-Earth3/historical/r150i1p1f1/Amon/tas/gr/v20200412/tas_Amon_EC-Earth3_historical_r150i1p1f1_gr_197001-201412.nc',\n",
       "   'type': 'application/x-netcdf',\n",
       "   'roles': ['data']},\n",
       "  'NetcdfSubset': {'href': 'https://daccs.cs.toronto.edu/twitcher/ows/proxy/thredds/ncss/datasets/CMIP6/CMIP/EC-Earth-Consortium/EC-Earth3/historical/r150i1p1f1/Amon/tas/gr/v20200412/tas_Amon_EC-Earth3_historical_r150i1p1f1_gr_197001-201412.nc',\n",
       "   'type': 'application/x-netcdf',\n",
       "   'roles': ['data']}},\n",
       " 'bbox': [0.0, -89.46282196044922, 359.296875, 89.46282196044922],\n",
       " 'stac_extensions': ['https://raw.githubusercontent.com/TomAugspurger/cmip6/main/json-schema/schema.json',\n",
       "  'https://stac-extensions.github.io/datacube/v2.2.0/schema.json'],\n",
       " 'collection': 'CMIP6_UofT'}"
      ]
     },
     "execution_count": 31,
     "metadata": {},
     "output_type": "execute_result"
    }
   ],
   "source": [
    "item.to_dict()"
   ]
  },
  {
   "cell_type": "markdown",
   "id": "45e4c12b-f458-4a49-8f68-439dc30bf1c5",
   "metadata": {},
   "source": [
    "The raw JSON can be difficult to interpret in this format, so a better way is to use the JSON rendering capability of the `IPython` library as follows:"
   ]
  },
  {
   "cell_type": "code",
   "execution_count": 32,
   "id": "de693e18-320d-4ef8-919f-9ba16efd2d09",
   "metadata": {},
   "outputs": [],
   "source": [
    "import IPython.display"
   ]
  },
  {
   "cell_type": "code",
   "execution_count": null,
   "id": "0ff8ec9f-0ed8-4b59-8c57-9e381fd4198c",
   "metadata": {},
   "outputs": [],
   "source": [
    "IPython.display.JSON(item.to_dict())"
   ]
  },
  {
   "cell_type": "markdown",
   "id": "277cbd92-ea52-4ea7-b574-9a7bf676af2e",
   "metadata": {},
   "source": [
    "![](images/json_render_ipython.png)"
   ]
  },
  {
   "cell_type": "markdown",
   "id": "19379f00-5dec-48a1-b7bd-a4809460a493",
   "metadata": {},
   "source": [
    "This presents the same information but in an interactive format where you can fold and expand the various elements of the JSON data to make the information easier to navigate."
   ]
  },
  {
   "cell_type": "markdown",
   "id": "0764770f-91d8-4732-b9bf-da98e8c3314b",
   "metadata": {},
   "source": [
    "## Example workflow"
   ]
  },
  {
   "cell_type": "markdown",
   "id": "d072e7af-b0c0-41ff-b82e-668bed80cc8d",
   "metadata": {},
   "source": [
    "A simplified example that shows how to retrieve information about data of interest and how to incorporate it into your workflow is shown below:"
   ]
  },
  {
   "cell_type": "markdown",
   "id": "eb959e2c-48bc-4f48-87f7-a30224618786",
   "metadata": {
    "editable": true,
    "slideshow": {
     "slide_type": ""
    },
    "tags": []
   },
   "source": [
    "```python\n",
    "# This is my special workflow involving the surface temperature variable.\n",
    "\n",
    "# 1. First make my imports\n",
    "import pystac_client \n",
    "import xarray as xr\n",
    "\n",
    "# 2. Open a link to the catalog\n",
    "catalog = pystac_client.Client.open(\"http://daccs.cs.toronto.edu/stac\")\n",
    "\n",
    "# 3. Now, search for the data you want\n",
    "search = catalog.search(\n",
    "    collections=[\"CMIP6_UofT\"],\n",
    "    query={\"cmip6:variable_id\": {\"eq\": \"tas\"}},\n",
    ")\n",
    "\n",
    "num_found = len(search.item_collection())\n",
    "print(f\"Search returned {num_found} items\")\n",
    "\n",
    "# 4. Now open each file and do some calculation\n",
    "\n",
    "for item in search.item_collection():\n",
    "    print(f\"Now processing: {item.id}\")\n",
    "    print(\"Some relevant info about this item: \")\n",
    "    print(f\"   CMIP6 Model ID : {item.properties['cmip6:source_id']}\")\n",
    "    print(f\"   Variant label  : {item.properties['cmip6:variant_label']}\")\n",
    "    opendap_url = item.assets[\"OpenDAP\"].href\n",
    "    ds = xr.open_dataset(opendap_url)\n",
    "    ...\n",
    "    # Do analysis\n",
    "    ds.close()\n",
    "```"
   ]
  }
 ],
 "metadata": {
  "kernelspec": {
   "display_name": "jupyter_stac_tests",
   "language": "python",
   "name": "jupyter_stac_tests"
  },
  "language_info": {
   "codemirror_mode": {
    "name": "ipython",
    "version": 3
   },
   "file_extension": ".py",
   "mimetype": "text/x-python",
   "name": "python",
   "nbconvert_exporter": "python",
   "pygments_lexer": "ipython3",
   "version": "3.10.9"
  }
 },
 "nbformat": 4,
 "nbformat_minor": 5
}
